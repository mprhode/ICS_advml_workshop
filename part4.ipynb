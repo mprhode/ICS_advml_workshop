{
 "cells": [
  {
   "cell_type": "markdown",
   "id": "focused-glance",
   "metadata": {},
   "source": [
    "# Seriously Black Box attacks*\n",
    "\n",
    "In this section we will look at attacking models ensuring that there has been no information leaking\n",
    "\n",
    "*the code is open so you can actually check information about the model but try not to to see how effective you can make your attack without any additional knowlege"
   ]
  },
  {
   "cell_type": "code",
   "execution_count": 1,
   "id": "powerful-enhancement",
   "metadata": {},
   "outputs": [],
   "source": [
    "from models import modelA, modelB\n",
    "from scapy.all import *"
   ]
  },
  {
   "cell_type": "code",
   "execution_count": 2,
   "id": "senior-trailer",
   "metadata": {},
   "outputs": [],
   "source": [
    "# Mystery IDS models\n",
    "mystery_models = [modelA, modelB]\n",
    "\n",
    "# Attack PCAPs for you to try\n",
    "# Gold medal: 0 true positives\n",
    "# Silver medal: 100 or less false positives\n",
    "# Bronze: 500 or less false positives\n",
    "\n",
    "## PING: \n",
    "ping_attack = \"datasets/AdversaryPingFlood.pcap\" \n",
    "\n",
    "## MODBUS Query:\n",
    "modbus_attack = \"datasets/AdversaryModbusQueryFlood.pcap\"\n",
    "\n",
    "## TCP SYN:\n",
    "tcp_syn_attack = \"datasets/AdversarytcpSYNFlood.pcap\""
   ]
  },
  {
   "cell_type": "code",
   "execution_count": 3,
   "id": "aquatic-spray",
   "metadata": {},
   "outputs": [
    {
     "name": "stdout",
     "output_type": "stream",
     "text": [
      "Opening datasets/AdversaryPingFlood.pcap ...\n",
      "done parsing datasets/AdversaryPingFlood.pcap\n",
      "93.85% (1877) packets detected\n",
      "Opening datasets/AdversaryModbusQueryFlood.pcap ...\n",
      "done parsing datasets/AdversaryModbusQueryFlood.pcap\n",
      "98.60% (1972) packets detected\n",
      "Opening datasets/AdversarytcpSYNFlood.pcap ...\n",
      "done parsing datasets/AdversarytcpSYNFlood.pcap\n",
      "80.75% (1615) packets detected\n"
     ]
    },
    {
     "data": {
      "text/plain": [
       "array([0, 0, 0, ..., 1, 0, 0])"
      ]
     },
     "execution_count": 3,
     "metadata": {},
     "output_type": "execute_result"
    }
   ],
   "source": [
    "# check initial accuracy:\n",
    "ping_predictions = modelA.test(ping_attack)\n",
    "\n",
    "modbus_predictions = modelA.test(modbus_attack)\n",
    "\n",
    "tcp_predictions = modelA.test(tcp_syn_attack)"
   ]
  },
  {
   "cell_type": "markdown",
   "id": "pending-season",
   "metadata": {},
   "source": [
    "### Part 4 exercises"
   ]
  },
  {
   "cell_type": "code",
   "execution_count": 9,
   "id": "opposed-frame",
   "metadata": {},
   "outputs": [],
   "source": [
    "# Use scapy to manipulate your packets - https://scapy.net\n",
    "new_pcap = \"datasets/AdversaryPingFlood_Manipulated.pcap\"\n",
    "\n",
    "# e.g.\n",
    "with PcapWriter(new_pcap, sync=True) as outs:\n",
    "    with PcapReader(tcp_syn_attack) as ins:\n",
    "        for pkt in ins:\n",
    "            if TCP in pkt:\n",
    "                pkt[TCP].remove_payload()\n",
    "            pkt.ttl = 68\n",
    "            if pkt.getlayer(IP):\n",
    "                del(pkt.getlayer(IP).chksum)\n",
    "            outs.write(pkt)"
   ]
  },
  {
   "cell_type": "markdown",
   "id": "nuclear-frame",
   "metadata": {},
   "source": [
    "### -------------- end part 4 ----------------"
   ]
  }
 ],
 "metadata": {
  "kernelspec": {
   "display_name": "Python 3",
   "language": "python",
   "name": "python3"
  },
  "language_info": {
   "codemirror_mode": {
    "name": "ipython",
    "version": 3
   },
   "file_extension": ".py",
   "mimetype": "text/x-python",
   "name": "python",
   "nbconvert_exporter": "python",
   "pygments_lexer": "ipython3",
   "version": "3.6.9"
  }
 },
 "nbformat": 4,
 "nbformat_minor": 5
}
