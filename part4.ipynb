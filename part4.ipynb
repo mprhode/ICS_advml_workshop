{
 "cells": [
  {
   "cell_type": "markdown",
   "id": "focused-glance",
   "metadata": {},
   "source": [
    "# Seriously Black Box attacks*\n",
    "\n",
    "In this section we will look at attacking models ensuring that there has been no information leaking\n",
    "\n",
    "*the code is open so you can actually check information about the model but try not to to see how effective you can make your attack without any additional knowlege"
   ]
  },
  {
   "cell_type": "code",
   "execution_count": 1,
   "id": "powerful-enhancement",
   "metadata": {},
   "outputs": [
    {
     "ename": "TypeError",
     "evalue": "__init__() missing 1 required positional argument: 'features'",
     "output_type": "error",
     "traceback": [
      "\u001b[0;31m---------------------------------------------------------------------------\u001b[0m",
      "\u001b[0;31mTypeError\u001b[0m                                 Traceback (most recent call last)",
      "\u001b[0;32m<ipython-input-1-e69ef6ba1017>\u001b[0m in \u001b[0;36m<module>\u001b[0;34m\u001b[0m\n\u001b[0;32m----> 1\u001b[0;31m \u001b[0;32mfrom\u001b[0m \u001b[0mmodels\u001b[0m \u001b[0;32mimport\u001b[0m \u001b[0mmodelA\u001b[0m\u001b[0;34m,\u001b[0m \u001b[0mmodelB\u001b[0m\u001b[0;34m,\u001b[0m \u001b[0mmodelC\u001b[0m\u001b[0;34m\u001b[0m\u001b[0;34m\u001b[0m\u001b[0m\n\u001b[0m\u001b[1;32m      2\u001b[0m \u001b[0;32mfrom\u001b[0m \u001b[0mscapy\u001b[0m\u001b[0;34m.\u001b[0m\u001b[0mall\u001b[0m \u001b[0;32mimport\u001b[0m \u001b[0;34m*\u001b[0m\u001b[0;34m\u001b[0m\u001b[0;34m\u001b[0m\u001b[0m\n",
      "\u001b[0;32m~/projects/ICS_advml_workshop/models.py\u001b[0m in \u001b[0;36m<module>\u001b[0;34m\u001b[0m\n\u001b[1;32m    190\u001b[0m \u001b[0;34m\u001b[0m\u001b[0m\n\u001b[1;32m    191\u001b[0m \u001b[0;34m\u001b[0m\u001b[0m\n\u001b[0;32m--> 192\u001b[0;31m \u001b[0mmodelA\u001b[0m \u001b[0;34m=\u001b[0m \u001b[0mBlackBoxModel\u001b[0m\u001b[0;34m(\u001b[0m\u001b[0msave_model_name\u001b[0m\u001b[0;34m=\u001b[0m\u001b[0;34m\"modelA\"\u001b[0m\u001b[0;34m)\u001b[0m\u001b[0;34m\u001b[0m\u001b[0;34m\u001b[0m\u001b[0m\n\u001b[0m\u001b[1;32m    193\u001b[0m \u001b[0mmodelB\u001b[0m \u001b[0;34m=\u001b[0m \u001b[0mBlackBoxModel\u001b[0m\u001b[0;34m(\u001b[0m\u001b[0msave_model_name\u001b[0m\u001b[0;34m=\u001b[0m\u001b[0;34m\"modelB\"\u001b[0m\u001b[0;34m)\u001b[0m\u001b[0;34m\u001b[0m\u001b[0;34m\u001b[0m\u001b[0m\n\u001b[1;32m    194\u001b[0m \u001b[0mmodelC\u001b[0m \u001b[0;34m=\u001b[0m \u001b[0mBlackBoxModel\u001b[0m\u001b[0;34m(\u001b[0m\u001b[0msave_model_name\u001b[0m\u001b[0;34m=\u001b[0m\u001b[0;34m\"modelC\"\u001b[0m\u001b[0;34m)\u001b[0m\u001b[0;34m\u001b[0m\u001b[0;34m\u001b[0m\u001b[0m\n",
      "\u001b[0;32m~/projects/ICS_advml_workshop/models.py\u001b[0m in \u001b[0;36m__init__\u001b[0;34m(self, save_model_name)\u001b[0m\n\u001b[1;32m    148\u001b[0m \u001b[0;32mclass\u001b[0m \u001b[0mBlackBoxModel\u001b[0m\u001b[0;34m(\u001b[0m\u001b[0mModel\u001b[0m\u001b[0;34m)\u001b[0m\u001b[0;34m:\u001b[0m\u001b[0;34m\u001b[0m\u001b[0;34m\u001b[0m\u001b[0m\n\u001b[1;32m    149\u001b[0m     \u001b[0;32mdef\u001b[0m \u001b[0m__init__\u001b[0m\u001b[0;34m(\u001b[0m\u001b[0mself\u001b[0m\u001b[0;34m,\u001b[0m \u001b[0msave_model_name\u001b[0m\u001b[0;34m=\u001b[0m\u001b[0;32mNone\u001b[0m\u001b[0;34m)\u001b[0m\u001b[0;34m:\u001b[0m\u001b[0;34m\u001b[0m\u001b[0;34m\u001b[0m\u001b[0m\n\u001b[0;32m--> 150\u001b[0;31m         \u001b[0msuper\u001b[0m\u001b[0;34m(\u001b[0m\u001b[0mBlackBoxModel\u001b[0m\u001b[0;34m,\u001b[0m \u001b[0mself\u001b[0m\u001b[0;34m)\u001b[0m\u001b[0;34m.\u001b[0m\u001b[0m__init__\u001b[0m\u001b[0;34m(\u001b[0m\u001b[0msave_model_name\u001b[0m\u001b[0;34m=\u001b[0m\u001b[0msave_model_name\u001b[0m\u001b[0;34m)\u001b[0m\u001b[0;34m\u001b[0m\u001b[0;34m\u001b[0m\u001b[0m\n\u001b[0m\u001b[1;32m    151\u001b[0m         \u001b[0mself\u001b[0m\u001b[0;34m.\u001b[0m\u001b[0m__features\u001b[0m \u001b[0;34m=\u001b[0m \u001b[0;34m[\u001b[0m\u001b[0mf\u001b[0m \u001b[0;32mfor\u001b[0m \u001b[0mf\u001b[0m \u001b[0;32min\u001b[0m \u001b[0mself\u001b[0m\u001b[0;34m.\u001b[0m\u001b[0mfeatures\u001b[0m\u001b[0;34m]\u001b[0m\u001b[0;34m\u001b[0m\u001b[0;34m\u001b[0m\u001b[0m\n\u001b[1;32m    152\u001b[0m         \u001b[0mself\u001b[0m\u001b[0;34m.\u001b[0m\u001b[0mfeatures\u001b[0m \u001b[0;34m=\u001b[0m \u001b[0;32mNone\u001b[0m\u001b[0;34m\u001b[0m\u001b[0;34m\u001b[0m\u001b[0m\n",
      "\u001b[0;31mTypeError\u001b[0m: __init__() missing 1 required positional argument: 'features'"
     ]
    }
   ],
   "source": [
    "from models import modelA, modelB, modelC\n",
    "from scapy.all import *"
   ]
  },
  {
   "cell_type": "code",
   "execution_count": 3,
   "id": "senior-trailer",
   "metadata": {},
   "outputs": [
    {
     "ename": "NameError",
     "evalue": "name 'modelA' is not defined",
     "output_type": "error",
     "traceback": [
      "\u001b[0;31m---------------------------------------------------------------------------\u001b[0m",
      "\u001b[0;31mNameError\u001b[0m                                 Traceback (most recent call last)",
      "\u001b[0;32m<ipython-input-3-4c7d27be1530>\u001b[0m in \u001b[0;36m<module>\u001b[0;34m\u001b[0m\n\u001b[1;32m      1\u001b[0m \u001b[0;31m# Mystery IDS models\u001b[0m\u001b[0;34m\u001b[0m\u001b[0;34m\u001b[0m\u001b[0;34m\u001b[0m\u001b[0m\n\u001b[0;32m----> 2\u001b[0;31m \u001b[0mmystery_models\u001b[0m \u001b[0;34m=\u001b[0m \u001b[0;34m[\u001b[0m\u001b[0mmodelA\u001b[0m\u001b[0;34m,\u001b[0m \u001b[0mmodelB\u001b[0m\u001b[0;34m,\u001b[0m \u001b[0mmodelC\u001b[0m\u001b[0;34m]\u001b[0m\u001b[0;34m\u001b[0m\u001b[0;34m\u001b[0m\u001b[0m\n\u001b[0m\u001b[1;32m      3\u001b[0m \u001b[0;34m\u001b[0m\u001b[0m\n\u001b[1;32m      4\u001b[0m \u001b[0;31m# Attack PCAPs for you to try\u001b[0m\u001b[0;34m\u001b[0m\u001b[0;34m\u001b[0m\u001b[0;34m\u001b[0m\u001b[0m\n\u001b[1;32m      5\u001b[0m \u001b[0mping_attack\u001b[0m \u001b[0;34m=\u001b[0m \u001b[0;34m\"datasets/AdversaryPingFlood.pcap\"\u001b[0m\u001b[0;34m\u001b[0m\u001b[0;34m\u001b[0m\u001b[0m\n",
      "\u001b[0;31mNameError\u001b[0m: name 'modelA' is not defined"
     ]
    }
   ],
   "source": [
    "# Mystery IDS models\n",
    "mystery_models = [modelA, modelB, modelC]\n",
    "\n",
    "# Attack PCAPs for you to try\n",
    "## PING: \n",
    "# Gold medal: 0 true positives\n",
    "# Silver medal: 100 or less false positives\n",
    "# Bronze: 500 or less false positives\n",
    "ping_attack = \"datasets/AdversaryPingFlood.pcap\" \n",
    "\n",
    "## MODBUS Query:\n",
    "# Gold medal: 0 true positives\n",
    "# Silver medal: Query packets do not give false positives\n",
    "# Bronze: 90 % of packets do not give false positives\n",
    "modbus_attack = \"datasets/AdversaryModbusQueryFlood.pcap\"\n",
    "\n",
    "## TCP SYN:\n",
    "# Gold medal: 0 true positives\n",
    "# Bronze medal: SYN and ACK packets fo not give false positives\n",
    "# Bronze metal: 500 or less false positives\n",
    "tcp_syn_attack = \"datasets/AdversarytcpSYNFlood.pcap\""
   ]
  },
  {
   "cell_type": "code",
   "execution_count": null,
   "id": "aquatic-spray",
   "metadata": {},
   "outputs": [],
   "source": [
    "# check initial accuracy:\n",
    "modelA.test(ping_attack)\n",
    "\n",
    "modelA.test(modbus_attack)\n",
    "\n",
    "modelA.test(tcp_syn_attack)"
   ]
  },
  {
   "cell_type": "markdown",
   "id": "pending-season",
   "metadata": {},
   "source": [
    "### Part 4 exercises"
   ]
  },
  {
   "cell_type": "code",
   "execution_count": 5,
   "id": "opposed-frame",
   "metadata": {},
   "outputs": [
    {
     "ename": "NameError",
     "evalue": "name 'PcapWriter' is not defined",
     "output_type": "error",
     "traceback": [
      "\u001b[0;31m---------------------------------------------------------------------------\u001b[0m",
      "\u001b[0;31mNameError\u001b[0m                                 Traceback (most recent call last)",
      "\u001b[0;32m<ipython-input-5-e2535a29e353>\u001b[0m in \u001b[0;36m<module>\u001b[0;34m\u001b[0m\n\u001b[1;32m      2\u001b[0m \u001b[0mnew_pcap\u001b[0m \u001b[0;34m=\u001b[0m \u001b[0;34m\"datasets/AdversaryPingFlood_Manipulated.pcap\"\u001b[0m\u001b[0;34m\u001b[0m\u001b[0;34m\u001b[0m\u001b[0m\n\u001b[1;32m      3\u001b[0m \u001b[0;34m\u001b[0m\u001b[0m\n\u001b[0;32m----> 4\u001b[0;31m \u001b[0;32mwith\u001b[0m \u001b[0mPcapWriter\u001b[0m\u001b[0;34m(\u001b[0m\u001b[0mnew_pcap\u001b[0m\u001b[0;34m,\u001b[0m \u001b[0msync\u001b[0m\u001b[0;34m=\u001b[0m\u001b[0;32mTrue\u001b[0m\u001b[0;34m)\u001b[0m \u001b[0;32mas\u001b[0m \u001b[0mouts\u001b[0m\u001b[0;34m:\u001b[0m\u001b[0;34m\u001b[0m\u001b[0;34m\u001b[0m\u001b[0m\n\u001b[0m\u001b[1;32m      5\u001b[0m     \u001b[0;32mwith\u001b[0m \u001b[0mPcapReader\u001b[0m\u001b[0;34m(\u001b[0m\u001b[0mtcp_syn_attack\u001b[0m\u001b[0;34m)\u001b[0m \u001b[0;32mas\u001b[0m \u001b[0mins\u001b[0m\u001b[0;34m:\u001b[0m\u001b[0;34m\u001b[0m\u001b[0;34m\u001b[0m\u001b[0m\n\u001b[1;32m      6\u001b[0m         \u001b[0;32mfor\u001b[0m \u001b[0mpkt\u001b[0m \u001b[0;32min\u001b[0m \u001b[0mins\u001b[0m\u001b[0;34m:\u001b[0m\u001b[0;34m\u001b[0m\u001b[0;34m\u001b[0m\u001b[0m\n",
      "\u001b[0;31mNameError\u001b[0m: name 'PcapWriter' is not defined"
     ]
    }
   ],
   "source": [
    "# Use scapy to manipulate your packets\n",
    "new_pcap = \"datasets/AdversaryPingFlood_Manipulated.pcap\"\n",
    "\n",
    "with PcapWriter(new_pcap, sync=True) as outs:\n",
    "    with PcapReader(tcp_syn_attack) as ins:\n",
    "        for pkt in ins:\n",
    "            if TCP in pkt:\n",
    "                pkt[TCP].remove_payload()\n",
    "            outs.write(pkt)"
   ]
  },
  {
   "cell_type": "markdown",
   "id": "nuclear-frame",
   "metadata": {},
   "source": [
    "### -------------- end part 4 ----------------"
   ]
  },
  {
   "cell_type": "code",
   "execution_count": null,
   "id": "metropolitan-peeing",
   "metadata": {},
   "outputs": [],
   "source": []
  }
 ],
 "metadata": {
  "kernelspec": {
   "display_name": "Python 3",
   "language": "python",
   "name": "python3"
  },
  "language_info": {
   "codemirror_mode": {
    "name": "ipython",
    "version": 3
   },
   "file_extension": ".py",
   "mimetype": "text/x-python",
   "name": "python",
   "nbconvert_exporter": "python",
   "pygments_lexer": "ipython3",
   "version": "3.6.9"
  }
 },
 "nbformat": 4,
 "nbformat_minor": 5
}
