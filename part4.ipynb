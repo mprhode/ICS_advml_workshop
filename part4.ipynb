{
 "cells": [
  {
   "cell_type": "markdown",
   "id": "focused-glance",
   "metadata": {},
   "source": [
    "# Attacking the model again\n",
    "\n",
    "In this section we will look at reapplying attacks from part 3 to the defended models"
   ]
  },
  {
   "cell_type": "code",
   "execution_count": null,
   "id": "powerful-enhancement",
   "metadata": {},
   "outputs": [],
   "source": []
  }
 ],
 "metadata": {
  "kernelspec": {
   "display_name": "Python 3",
   "language": "python",
   "name": "python3"
  },
  "language_info": {
   "codemirror_mode": {
    "name": "ipython",
    "version": 3
   },
   "file_extension": ".py",
   "mimetype": "text/x-python",
   "name": "python",
   "nbconvert_exporter": "python",
   "pygments_lexer": "ipython3",
   "version": "3.6.9"
  }
 },
 "nbformat": 4,
 "nbformat_minor": 5
}
