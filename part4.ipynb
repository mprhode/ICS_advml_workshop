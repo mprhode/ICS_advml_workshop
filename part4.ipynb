{
 "cells": [
  {
   "cell_type": "markdown",
   "id": "focused-glance",
   "metadata": {},
   "source": [
    "# Seriously Black Box attacks*\n",
    "\n",
    "In this section we will look at attacking models ensuring that there has been no information leaking\n",
    "\n",
    "*the code is open so you can actually check information about the model but try not to to see how effective you can make your attack without any additional knowlege"
   ]
  },
  {
   "cell_type": "code",
   "execution_count": 1,
   "id": "powerful-enhancement",
   "metadata": {},
   "outputs": [
    {
     "ename": "SyntaxError",
     "evalue": "invalid syntax (<ipython-input-1-353c67e20525>, line 1)",
     "output_type": "error",
     "traceback": [
      "\u001b[0;36m  File \u001b[0;32m\"<ipython-input-1-353c67e20525>\"\u001b[0;36m, line \u001b[0;32m1\u001b[0m\n\u001b[0;31m    import utils import modelA, modelB, modelC\u001b[0m\n\u001b[0m                      ^\u001b[0m\n\u001b[0;31mSyntaxError\u001b[0m\u001b[0;31m:\u001b[0m invalid syntax\n"
     ]
    }
   ],
   "source": [
    "from models import modelA, modelB, modelC\n",
    "from scapy.all import *"
   ]
  },
  {
   "cell_type": "code",
   "execution_count": 3,
   "id": "senior-trailer",
   "metadata": {},
   "outputs": [
    {
     "ename": "NameError",
     "evalue": "name 'modelA' is not defined",
     "output_type": "error",
     "traceback": [
      "\u001b[0;31m---------------------------------------------------------------------------\u001b[0m",
      "\u001b[0;31mNameError\u001b[0m                                 Traceback (most recent call last)",
      "\u001b[0;32m<ipython-input-3-4c7d27be1530>\u001b[0m in \u001b[0;36m<module>\u001b[0;34m\u001b[0m\n\u001b[1;32m      1\u001b[0m \u001b[0;31m# Mystery IDS models\u001b[0m\u001b[0;34m\u001b[0m\u001b[0;34m\u001b[0m\u001b[0;34m\u001b[0m\u001b[0m\n\u001b[0;32m----> 2\u001b[0;31m \u001b[0mmystery_models\u001b[0m \u001b[0;34m=\u001b[0m \u001b[0;34m[\u001b[0m\u001b[0mmodelA\u001b[0m\u001b[0;34m,\u001b[0m \u001b[0mmodelB\u001b[0m\u001b[0;34m,\u001b[0m \u001b[0mmodelC\u001b[0m\u001b[0;34m]\u001b[0m\u001b[0;34m\u001b[0m\u001b[0;34m\u001b[0m\u001b[0m\n\u001b[0m\u001b[1;32m      3\u001b[0m \u001b[0;34m\u001b[0m\u001b[0m\n\u001b[1;32m      4\u001b[0m \u001b[0;31m# Attack PCAPs for you to try\u001b[0m\u001b[0;34m\u001b[0m\u001b[0;34m\u001b[0m\u001b[0;34m\u001b[0m\u001b[0m\n\u001b[1;32m      5\u001b[0m \u001b[0mping_attack\u001b[0m \u001b[0;34m=\u001b[0m \u001b[0;34m\"datasets/AdversaryPingFlood.pcap\"\u001b[0m\u001b[0;34m\u001b[0m\u001b[0;34m\u001b[0m\u001b[0m\n",
      "\u001b[0;31mNameError\u001b[0m: name 'modelA' is not defined"
     ]
    }
   ],
   "source": [
    "# Mystery IDS models\n",
    "mystery_models = [modelA, modelB, modelC]\n",
    "\n",
    "# Attack PCAPs for you to try\n",
    "ping_attack = \"datasets/AdversaryPingFlood.pcap\"\n",
    "modbus_attack = \"datasets/AdversaryModbus.pcap\"\n",
    "tcp_syn_attack = \"datasets/AdversaryTCP.pcap\""
   ]
  },
  {
   "cell_type": "markdown",
   "id": "pending-season",
   "metadata": {},
   "source": [
    "### Part 4 exercises"
   ]
  },
  {
   "cell_type": "code",
   "execution_count": 5,
   "id": "opposed-frame",
   "metadata": {},
   "outputs": [
    {
     "ename": "NameError",
     "evalue": "name 'PcapWriter' is not defined",
     "output_type": "error",
     "traceback": [
      "\u001b[0;31m---------------------------------------------------------------------------\u001b[0m",
      "\u001b[0;31mNameError\u001b[0m                                 Traceback (most recent call last)",
      "\u001b[0;32m<ipython-input-5-e2535a29e353>\u001b[0m in \u001b[0;36m<module>\u001b[0;34m\u001b[0m\n\u001b[1;32m      2\u001b[0m \u001b[0mnew_pcap\u001b[0m \u001b[0;34m=\u001b[0m \u001b[0;34m\"datasets/AdversaryPingFlood_Manipulated.pcap\"\u001b[0m\u001b[0;34m\u001b[0m\u001b[0;34m\u001b[0m\u001b[0m\n\u001b[1;32m      3\u001b[0m \u001b[0;34m\u001b[0m\u001b[0m\n\u001b[0;32m----> 4\u001b[0;31m \u001b[0;32mwith\u001b[0m \u001b[0mPcapWriter\u001b[0m\u001b[0;34m(\u001b[0m\u001b[0mnew_pcap\u001b[0m\u001b[0;34m,\u001b[0m \u001b[0msync\u001b[0m\u001b[0;34m=\u001b[0m\u001b[0;32mTrue\u001b[0m\u001b[0;34m)\u001b[0m \u001b[0;32mas\u001b[0m \u001b[0mouts\u001b[0m\u001b[0;34m:\u001b[0m\u001b[0;34m\u001b[0m\u001b[0;34m\u001b[0m\u001b[0m\n\u001b[0m\u001b[1;32m      5\u001b[0m     \u001b[0;32mwith\u001b[0m \u001b[0mPcapReader\u001b[0m\u001b[0;34m(\u001b[0m\u001b[0mtcp_syn_attack\u001b[0m\u001b[0;34m)\u001b[0m \u001b[0;32mas\u001b[0m \u001b[0mins\u001b[0m\u001b[0;34m:\u001b[0m\u001b[0;34m\u001b[0m\u001b[0;34m\u001b[0m\u001b[0m\n\u001b[1;32m      6\u001b[0m         \u001b[0;32mfor\u001b[0m \u001b[0mpkt\u001b[0m \u001b[0;32min\u001b[0m \u001b[0mins\u001b[0m\u001b[0;34m:\u001b[0m\u001b[0;34m\u001b[0m\u001b[0;34m\u001b[0m\u001b[0m\n",
      "\u001b[0;31mNameError\u001b[0m: name 'PcapWriter' is not defined"
     ]
    }
   ],
   "source": [
    "# Use scapy to manipulate your packets\n",
    "new_pcap = \"datasets/AdversaryPingFlood_Manipulated.pcap\"\n",
    "\n",
    "with PcapWriter(new_pcap, sync=True) as outs:\n",
    "    with PcapReader(tcp_syn_attack) as ins:\n",
    "        for pkt in ins:\n",
    "            if TCP in pkt:\n",
    "                pkt[TCP].remove_payload()\n",
    "            outs.write(pkt)"
   ]
  },
  {
   "cell_type": "markdown",
   "id": "nuclear-frame",
   "metadata": {},
   "source": [
    "### -------------- end part 4 ----------------"
   ]
  },
  {
   "cell_type": "code",
   "execution_count": null,
   "id": "metropolitan-peeing",
   "metadata": {},
   "outputs": [],
   "source": []
  }
 ],
 "metadata": {
  "kernelspec": {
   "display_name": "Python 3",
   "language": "python",
   "name": "python3"
  },
  "language_info": {
   "codemirror_mode": {
    "name": "ipython",
    "version": 3
   },
   "file_extension": ".py",
   "mimetype": "text/x-python",
   "name": "python",
   "nbconvert_exporter": "python",
   "pygments_lexer": "ipython3",
   "version": "3.6.9"
  }
 },
 "nbformat": 4,
 "nbformat_minor": 5
}
