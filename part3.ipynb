{
 "cells": [
  {
   "cell_type": "markdown",
   "id": "young-blair",
   "metadata": {},
   "source": [
    "# Defending the model\n",
    "\n",
    "In this section we will look at defences for the ML model(s)"
   ]
  },
  {
   "cell_type": "code",
   "execution_count": 2,
   "id": "extra-geneva",
   "metadata": {},
   "outputs": [],
   "source": [
    "from art.attacks.evasion import DecisionTreeAttack, HopSkipJump\n",
    "from art.estimators.classification import SklearnClassifier\n",
    "from art.estimators.classification.scikitlearn import ScikitlearnDecisionTreeClassifier\n",
    "\n",
    "from models import Model\n",
    "from utils import compare_data, parse_df_for_pcap_validity, get_testing_set, get_training_set\n",
    "import numpy as np"
   ]
  },
  {
   "cell_type": "markdown",
   "id": "alternate-handbook",
   "metadata": {},
   "source": [
    "## Defence: Training with adversarial samples"
   ]
  },
  {
   "cell_type": "code",
   "execution_count": null,
   "id": "guided-flush",
   "metadata": {},
   "outputs": [],
   "source": [
    "# generate white box samples\n",
    "attack_data_pcap = \"datasets/AdversaryPingFlood.pcap\"\n",
    "model = Model(None, save_model_name=\"time_model_dt\")\n",
    "target_attack_x, target_attack_y, preds = model.test(attack_data_pcap, malicious=1, return_x_y_preds=True, verbose=False)\n",
    "target_attack_x, target_attack_y = target_attack_x[np.where(preds == 1)], target_attack_y[np.where(preds == 1)]\n",
    "# Create a dataframe for ease retraining model\n",
    "target_attack_df = pd.DataFrame(target_attack_x, columns=model.features)\n",
    "target_attack_df[\"malicious\"] = 1\n",
    "# White-box Attack\n",
    "art_classifier = ScikitlearnDecisionTreeClassifier(model=model.get_classifier())\n",
    "dt_attack = DecisionTreeAttack(classifier=art_classifier)\n",
    "# adversarial samples\n",
    "white_box_adversarial = dt_attack.generate(x=target_attack_x)\n",
    "valid_white_box_adversarial = parse_df_for_pcap_validity(white_box_adversarial, original_data=target_attack_x, columns=model.features)"
   ]
  },
  {
   "cell_type": "code",
   "execution_count": null,
   "id": "about-benjamin",
   "metadata": {},
   "outputs": [],
   "source": [
    "# generate black-box samples\n",
    "art_classifier = ScikitlearnClassifier(model=model.get_classifier())\n",
    "hsj_attack = HopSkipJumpAttack(classifier=art_classifier)\n",
    "# adversarial samples\n",
    "x_test_adv = hsj_attack.generate(x=target_attack_x, y=np.zeros(len(target_attack_x)))\n",
    "valid_black_box_adversarial = parse_df_for_pcap_validity(white_box_adversarial, original_data=target_attack_x, columns=model.features)"
   ]
  },
  {
   "cell_type": "code",
   "execution_count": 8,
   "id": "earlier-occasion",
   "metadata": {},
   "outputs": [
    {
     "ename": "NameError",
     "evalue": "name 'model' is not defined",
     "output_type": "error",
     "traceback": [
      "\u001b[0;31m---------------------------------------------------------------------------\u001b[0m",
      "\u001b[0;31mNameError\u001b[0m                                 Traceback (most recent call last)",
      "\u001b[0;32m<ipython-input-8-00f832f2be0e>\u001b[0m in \u001b[0;36m<module>\u001b[0;34m\u001b[0m\n\u001b[1;32m      1\u001b[0m \u001b[0;31m# retrain model with white box samples\u001b[0m\u001b[0;34m\u001b[0m\u001b[0;34m\u001b[0m\u001b[0;34m\u001b[0m\u001b[0m\n\u001b[0;32m----> 2\u001b[0;31m \u001b[0mmodel\u001b[0m\u001b[0;34m.\u001b[0m\u001b[0mtrain\u001b[0m\u001b[0;34m(\u001b[0m\u001b[0mwhite_box_adversarial\u001b[0m\u001b[0;34m,\u001b[0m \u001b[0mretrain\u001b[0m\u001b[0;34m=\u001b[0m\u001b[0;32mTrue\u001b[0m\u001b[0;34m)\u001b[0m\u001b[0;34m\u001b[0m\u001b[0;34m\u001b[0m\u001b[0m\n\u001b[0m\u001b[1;32m      3\u001b[0m \u001b[0;34m\u001b[0m\u001b[0m\n\u001b[1;32m      4\u001b[0m \u001b[0;31m# check classification on adversarial samples\u001b[0m\u001b[0;34m\u001b[0m\u001b[0;34m\u001b[0m\u001b[0;34m\u001b[0m\u001b[0m\n\u001b[1;32m      5\u001b[0m \u001b[0mmodel\u001b[0m\u001b[0;34m.\u001b[0m\u001b[0mtest\u001b[0m\u001b[0;34m(\u001b[0m\u001b[0mwhite_box_adversarial\u001b[0m\u001b[0;34m)\u001b[0m\u001b[0;34m\u001b[0m\u001b[0;34m\u001b[0m\u001b[0m\n",
      "\u001b[0;31mNameError\u001b[0m: name 'model' is not defined"
     ]
    }
   ],
   "source": [
    "# retrain model with white box samples\n",
    "model.train(white_box_adversarial, retrain=True)\n",
    "\n",
    "# check classification on adversarial samples \n",
    "model.test(white_box_adversarial)"
   ]
  },
  {
   "cell_type": "code",
   "execution_count": null,
   "id": "suspended-stewart",
   "metadata": {},
   "outputs": [],
   "source": [
    "# check classification accuracy on test_test\n",
    "test_set = get_testing_set()\n",
    "model.test(test_set)"
   ]
  },
  {
   "cell_type": "markdown",
   "id": "joint-intent",
   "metadata": {},
   "source": [
    "### Part 3 exercises"
   ]
  },
  {
   "cell_type": "code",
   "execution_count": 6,
   "id": "thousand-jaguar",
   "metadata": {},
   "outputs": [],
   "source": [
    "# Try retraining models with the white box / black box / valid / invalid packets and see how it impacts \n",
    "# classification accuracy\n",
    "#\n",
    "# You may want to combine the adversarial samples with the original training set to avoid catastrophic forgetting\n",
    "# To combine datasets use pd.concat(<list>)\n",
    "# \n",
    "# e.g.\n",
    "# training_set = pd.get_training_set()\n",
    "# pd.concat([target_attack_df, training_set])"
   ]
  },
  {
   "cell_type": "markdown",
   "id": "animal-vegetation",
   "metadata": {},
   "source": [
    "### ---------- End of Part 3 ----------"
   ]
  },
  {
   "cell_type": "code",
   "execution_count": null,
   "id": "intense-little",
   "metadata": {},
   "outputs": [],
   "source": []
  }
 ],
 "metadata": {
  "kernelspec": {
   "display_name": "Python 3",
   "language": "python",
   "name": "python3"
  },
  "language_info": {
   "codemirror_mode": {
    "name": "ipython",
    "version": 3
   },
   "file_extension": ".py",
   "mimetype": "text/x-python",
   "name": "python",
   "nbconvert_exporter": "python",
   "pygments_lexer": "ipython3",
   "version": "3.6.9"
  }
 },
 "nbformat": 4,
 "nbformat_minor": 5
}
