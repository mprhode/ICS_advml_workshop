{
 "cells": [
  {
   "cell_type": "markdown",
   "id": "young-blair",
   "metadata": {},
   "source": [
    "# Defending the model\n",
    "\n",
    "In this section we will look at defences for the ML model(s)"
   ]
  },
  {
   "cell_type": "code",
   "execution_count": 1,
   "id": "extra-geneva",
   "metadata": {},
   "outputs": [],
   "source": [
    "from art.attacks.evasion import DecisionTreeAttack, HopSkipJump\n",
    "from art.estimators.classification import SklearnClassifier\n",
    "from art.estimators.classification.scikitlearn import ScikitlearnDecisionTreeClassifier\n",
    "\n",
    "from models import Model\n",
    "from utils import compare_data, parse_df_for_pcap_validity, get_training_data, get_testing_data\n",
    "import numpy as np\n",
    "import pandas as pd"
   ]
  },
  {
   "cell_type": "markdown",
   "id": "alternate-handbook",
   "metadata": {},
   "source": [
    "## Defence: Training with adversarial samples"
   ]
  },
  {
   "cell_type": "code",
   "execution_count": 2,
   "id": "guided-flush",
   "metadata": {},
   "outputs": [
    {
     "name": "stdout",
     "output_type": "stream",
     "text": [
      "save_model_path exists, loading model and config....\n",
      "DecisionTreeClassifier()\n",
      "['time_delta', 'IP__ttl', 'Ethernet__type_2048.0', 'Ethernet__type_2054.0', 'Ethernet__type_0.0', 'Ethernet__type_34525.0', 'Ethernet__type_32821.0', 'IP__proto_6.0', 'IP__proto_17.0', 'IP__proto_0.0', 'IP__proto_1.0', 'IP__proto_2.0']\n",
      "Opening datasets/AdversaryPingFlood.pcap ...\n",
      "done parsing datasets/AdversaryPingFlood.pcap\n"
     ]
    },
    {
     "data": {
      "application/vnd.jupyter.widget-view+json": {
       "model_id": "dee76bb1b25a4b9d9fc91a26bf54fb1c",
       "version_major": 2,
       "version_minor": 0
      },
      "text/plain": [
       "Decision tree attack:   0%|          | 0/1886 [00:00<?, ?it/s]"
      ]
     },
     "metadata": {},
     "output_type": "display_data"
    }
   ],
   "source": [
    "# generate white box samples\n",
    "attack_data_pcap = \"datasets/AdversaryPingFlood.pcap\"\n",
    "model = Model(None, save_model_name=\"time_model_dt\")\n",
    "target_attack_x, target_attack_y, preds = model.test(attack_data_pcap, malicious=1, return_x_y_preds=True, verbose=False)\n",
    "target_attack_x, target_attack_y = target_attack_x[np.where(preds == 1)], target_attack_y[np.where(preds == 1)]\n",
    "# Create a dataframe for ease retraining model\n",
    "target_attack_df = pd.DataFrame(target_attack_x, columns=model.features)\n",
    "target_attack_df[\"malicious\"] = 1\n",
    "# White-box Attack\n",
    "art_classifier = ScikitlearnDecisionTreeClassifier(model=model.get_classifier())\n",
    "dt_attack = DecisionTreeAttack(classifier=art_classifier)\n",
    "# adversarial samples\n",
    "white_box_adversarial = dt_attack.generate(x=target_attack_x)\n",
    "valid_white_box_adversarial = parse_df_for_pcap_validity(white_box_adversarial, original_data=target_attack_x, columns=model.features)"
   ]
  },
  {
   "cell_type": "code",
   "execution_count": 3,
   "id": "about-benjamin",
   "metadata": {},
   "outputs": [
    {
     "data": {
      "application/vnd.jupyter.widget-view+json": {
       "model_id": "b818ac9ea83c4261adc1273fe25bb127",
       "version_major": 2,
       "version_minor": 0
      },
      "text/plain": [
       "HopSkipJump:   0%|          | 0/100 [00:00<?, ?it/s]"
      ]
     },
     "metadata": {},
     "output_type": "display_data"
    }
   ],
   "source": [
    "# generate black-box samples\n",
    "art_classifier = SklearnClassifier(model=model.get_classifier())\n",
    "hsj_attack = HopSkipJump(classifier=art_classifier)\n",
    "# adversarial samples\n",
    "# target_attack_x = target_attack_x # 2k samples, takes longer\n",
    "target_attack_x = target_attack_x[:100]\n",
    "\n",
    "black_box_adversarial = hsj_attack.generate(x=target_attack_x, y=np.zeros(len(target_attack_x)))\n",
    "valid_black_box_adversarial = parse_df_for_pcap_validity(black_box_adversarial, original_data=target_attack_x, columns=model.features)"
   ]
  },
  {
   "cell_type": "code",
   "execution_count": 7,
   "id": "earlier-occasion",
   "metadata": {},
   "outputs": [
    {
     "name": "stdout",
     "output_type": "stream",
     "text": [
      "-----\n",
      "Testing acc: 1.00, f1: 1.00, tpr: 1.00, tnr 0.00\n",
      "[[   0.    0.]\n",
      " [   0. 1886.]]\n",
      "-----\n",
      "not saving model as model already exists\n",
      "-----\n",
      "Training acc: 1.00, f1: 1.00, tpr: 1.00, tnr 0.00\n",
      "[[   0.    0.]\n",
      " [   0. 1886.]]\n",
      "-----\n",
      "-----\n",
      "Testing acc: 1.00, f1: 1.00, tpr: 1.00, tnr 0.00\n",
      "[[   0.    0.]\n",
      " [   0. 1886.]]\n",
      "-----\n"
     ]
    }
   ],
   "source": [
    "model.test(white_box_adversarial)\n",
    "\n",
    "# retrain model with white box samples\n",
    "model.train(white_box_adversarial, continue_training=True)\n",
    "\n",
    "# check classification on adversarial samples \n",
    "model.test(white_box_adversarial)"
   ]
  },
  {
   "cell_type": "code",
   "execution_count": 8,
   "id": "suspended-stewart",
   "metadata": {},
   "outputs": [
    {
     "name": "stdout",
     "output_type": "stream",
     "text": [
      "1    418874\n",
      "0    148467\n",
      "Name: malicious, dtype: int64\n",
      "pingFloodDDoS          194436\n",
      "tcpSYNFloodDDoS        182094\n",
      "clean                  148467\n",
      "modbusQueryFlooding     42344\n",
      "Name: attack_type, dtype: int64\n",
      "-----\n",
      "Testing acc: 0.74, f1: 0.85, tpr: 1.00, tnr 0.00\n",
      "[[     0 148467]\n",
      " [     0 418874]]\n",
      "-----\n"
     ]
    }
   ],
   "source": [
    "# check classification accuracy on test_test\n",
    "test_set = get_testing_data()\n",
    "model.test(test_set)"
   ]
  },
  {
   "cell_type": "markdown",
   "id": "joint-intent",
   "metadata": {},
   "source": [
    "### Part 3 exercises"
   ]
  },
  {
   "cell_type": "code",
   "execution_count": null,
   "id": "thousand-jaguar",
   "metadata": {},
   "outputs": [],
   "source": [
    "# Try retraining models with the white box / black box / valid / invalid packets and see how it impacts \n",
    "# classification accuracy\n",
    "#\n",
    "# You may want to combine the adversarial samples with the original training set to avoid catastrophic forgetting\n",
    "# To combine datasets use pd.concat(<list>)\n",
    "# \n",
    "# e.g.\n",
    "# training_set = pd.get_training_set()\n",
    "# pd.concat([target_attack_df, training_set])"
   ]
  },
  {
   "cell_type": "markdown",
   "id": "animal-vegetation",
   "metadata": {},
   "source": [
    "### ---------- End of Part 3 ----------"
   ]
  },
  {
   "cell_type": "code",
   "execution_count": null,
   "id": "intense-little",
   "metadata": {},
   "outputs": [],
   "source": []
  }
 ],
 "metadata": {
  "kernelspec": {
   "display_name": "Python 3",
   "language": "python",
   "name": "python3"
  },
  "language_info": {
   "codemirror_mode": {
    "name": "ipython",
    "version": 3
   },
   "file_extension": ".py",
   "mimetype": "text/x-python",
   "name": "python",
   "nbconvert_exporter": "python",
   "pygments_lexer": "ipython3",
   "version": "3.6.9"
  }
 },
 "nbformat": 4,
 "nbformat_minor": 5
}
