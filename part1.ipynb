{
 "cells": [
  {
   "cell_type": "markdown",
   "id": "adaptive-garlic",
   "metadata": {},
   "source": [
    "# Building an ML classifier for malicious IDS traffic\n",
    "\n",
    "In this part of the workshop we will try to create a classifier to detect malicious traffic in an Industrial Control System (ICS) network\n",
    "\n"
   ]
  },
  {
   "cell_type": "code",
   "execution_count": 7,
   "id": "bulgarian-cylinder",
   "metadata": {},
   "outputs": [],
   "source": [
    "%matplotlib inline\n",
    "import matplotlib.pyplot as plt\n",
    "import seaborn as sns\n",
    "from utils import get_training_data"
   ]
  },
  {
   "cell_type": "markdown",
   "id": "blank-substitute",
   "metadata": {},
   "source": [
    "### Dataset\n",
    "\n",
    "The data used in these experiments was originally collected by researchers at The University of Coimbra. [Original Paper here](https://link.springer.com/chapter/10.1007/978-3-030-05849-4_19):Frazão, I., Abreu, P.H., Cruz, T., Araújo, H. and Simões, P., 2018, September. Denial of service attacks: Detecting the frailties of machine learning algorithms in the classification process. In International Conference on Critical Information Infrastructures Security (pp. 230-235). Springer, Cham. - Thank you to the authors for their help labelling the dataset!\n",
    "\n",
    "The dataset was collected on an ICS testbed during benign activity and during 3 kinds of DDoS attack. (TCP SYN flood, ping flood, Modbus query flood)\n",
    "\n",
    "Here we use a subset of the whole dataset to save computational resources. \n",
    "\n",
    "Features were extracted from the pcap files, again a subset of possible features are used here, more could be used. Non-repeatable features are removed (e.g. timestamps, id numbers). More features were collected but any with low or zero variance on training set were omitted to save unnecessary computation. \n",
    "\n",
    "Categorical features use one-hot representation. \n",
    "\n",
    "<b>The models here use per-packet classification. Flow-based analysis, rolling averages and time-series are common methods but not used here due to the additional computational resources required.</b>"
   ]
  },
  {
   "cell_type": "code",
   "execution_count": 2,
   "id": "practical-thong",
   "metadata": {},
   "outputs": [
    {
     "name": "stdout",
     "output_type": "stream",
     "text": [
      "True     30584\n",
      "False    12397\n",
      "Name: malicious, dtype: int64\n",
      "['R1-PA1:VH' 'R1-PM1:V' 'R1-PA2:VH' 'R1-PM2:V' 'R1-PA3:VH' 'R1-PM3:V'\n",
      " 'R1-PA4:IH' 'R1-PM4:I' 'R1-PA5:IH' 'R1-PM5:I' 'R1-PA6:IH' 'R1-PM6:I'\n",
      " 'R1-PA7:VH' 'R1-PM7:V' 'R1-PA8:VH' 'R1-PM8:V' 'R1-PA9:VH' 'R1-PM9:V'\n",
      " 'R1-PA10:IH' 'R1-PM10:I' 'R1-PA11:IH' 'R1-PM11:I' 'R1-PA12:IH'\n",
      " 'R1-PM12:I' 'R1:F' 'R1:DF' 'R1-PA:Z' 'R1-PA:ZH' 'R1:S' 'R2-PA1:VH'\n",
      " 'R2-PM1:V' 'R2-PA2:VH' 'R2-PM2:V' 'R2-PA3:VH' 'R2-PM3:V' 'R2-PA4:IH'\n",
      " 'R2-PM4:I' 'R2-PA5:IH' 'R2-PM5:I' 'R2-PA6:IH' 'R2-PM6:I' 'R2-PA7:VH'\n",
      " 'R2-PM7:V' 'R2-PA8:VH' 'R2-PM8:V' 'R2-PA9:VH' 'R2-PM9:V' 'R2-PA10:IH'\n",
      " 'R2-PM10:I' 'R2-PA11:IH' 'R2-PM11:I' 'R2-PA12:IH' 'R2-PM12:I' 'R2:F'\n",
      " 'R2:DF' 'R2-PA:Z' 'R2-PA:ZH' 'R2:S' 'R3-PA1:VH' 'R3-PM1:V' 'R3-PA2:VH'\n",
      " 'R3-PM2:V' 'R3-PA3:VH' 'R3-PM3:V' 'R3-PA4:IH' 'R3-PM4:I' 'R3-PA5:IH'\n",
      " 'R3-PM5:I' 'R3-PA6:IH' 'R3-PM6:I' 'R3-PA7:VH' 'R3-PM7:V' 'R3-PA8:VH'\n",
      " 'R3-PM8:V' 'R3-PA9:VH' 'R3-PM9:V' 'R3-PA10:IH' 'R3-PM10:I' 'R3-PA11:IH'\n",
      " 'R3-PM11:I' 'R3-PA12:IH' 'R3-PM12:I' 'R3:F' 'R3:DF' 'R3-PA:Z' 'R3-PA:ZH'\n",
      " 'R3:S' 'R4-PA1:VH' 'R4-PM1:V' 'R4-PA2:VH' 'R4-PM2:V' 'R4-PA3:VH'\n",
      " 'R4-PM3:V' 'R4-PA4:IH' 'R4-PM4:I' 'R4-PA5:IH' 'R4-PM5:I' 'R4-PA6:IH'\n",
      " 'R4-PM6:I' 'R4-PA7:VH' 'R4-PM7:V' 'R4-PA8:VH' 'R4-PM8:V' 'R4-PA9:VH'\n",
      " 'R4-PM9:V' 'R4-PA10:IH' 'R4-PM10:I' 'R4-PA11:IH' 'R4-PM11:I' 'R4-PA12:IH'\n",
      " 'R4-PM12:I' 'R4:F' 'R4:DF' 'R4-PA:Z' 'R4-PA:ZH' 'R4:S'\n",
      " 'control_panel_log1' 'control_panel_log2' 'control_panel_log3'\n",
      " 'control_panel_log4' 'relay1_log' 'relay2_log' 'relay3_log' 'relay4_log'\n",
      " 'snort_log1' 'snort_log2' 'snort_log3' 'snort_log4' 'marker' 'malicious']\n"
     ]
    }
   ],
   "source": [
    "# List of possible features \n",
    "features = [\n",
    "    # Ethernet\n",
    "    \"Ethernet__type\",\n",
    "    # IP\n",
    "    \"IP__ihl\", \n",
    "    \"IP__tos\", \n",
    "    \"IP__len\",  \n",
    "    \"IP__flags\", \n",
    "    \"IP__frag\", \n",
    "    \"IP__ttl\", \n",
    "    \"IP__proto\",\n",
    "    \"IP__src\", \n",
    "    \"IP__dst\", \n",
    "    # TCP\n",
    "    \"TCP__sport\", \n",
    "    \"TCP__dport\", \n",
    "    \"TCP__seq\", \n",
    "    \"TCP__ack\", \n",
    "    \"TCP__dataofs\", \n",
    "    \"TCP__flags\", \n",
    "    # ModbusADU \n",
    "    \"ModbusADU__protoId\", \n",
    "    \"ModbusADU__len\", \n",
    "    \"ModbusADU__unitId\", \n",
    "    # UDP\n",
    "    \"UDP__sport\", \n",
    "    \"UDP__dport\" ,  \n",
    "    \"UDP__len\",\n",
    "    # BOOTP\n",
    "    \"BOOTP__secs\", \n",
    "    # ICMP(v6)\n",
    "    \"ICMP__type\", [c] \n",
    "    \"ICMPv6 Neighbor Discovery - Neighbor Solicitation__type\",\n",
    "    \"ICMPv6 Neighbor Discovery - Router Solicitation__type\", \n",
    "    \"ICMPv6 Neighbor Discovery Option - Source Link-Layer Address__type\",\n",
    "    \"ICMPv6 Neighbor Discovery Option - Source Link-Layer Address__len\",\n",
    "    # DHCP\n",
    "    \"DHCPv6 Solicit Message__msgtype \",\n",
    "    \"DHCP6 Elapsed Time Option__optcode\", \n",
    "    \"DHCP6 Elapsed Time Option__optlen\", \n",
    "    \"DHCP6 Elapsed Time Option__elapsedtime\", \n",
    "    \"DHCP6 Client Identifier Option__optcode\",\n",
    "    \"DHCP6 Option Request Option__optcode\",\n",
    "    \"DHCP6 Option Request Option__optlen\", \n",
    "    \n",
    "    \"Link Local Multicast Node Resolution - Query__qdcount\"\n",
    "    \n",
    "    # interpacket time\n",
    "    \"time_delta\"\n",
    "]"
   ]
  },
  {
   "cell_type": "markdown",
   "id": "employed-concert",
   "metadata": {},
   "source": [
    "## Models\n",
    "\n",
    "We have built wrappers for three anomaly detection and 6 supervised learning models. \n",
    "\n",
    "All models take the chosen features as input before training. The anomaly detection models all take a contamination ratio (percentage malicious) as input.\n",
    "\n",
    "To save your computers, we have pretrained some models which can be loaded from the list of names below"
   ]
  },
  {
   "cell_type": "code",
   "execution_count": 3,
   "id": "transsexual-messenger",
   "metadata": {},
   "outputs": [],
   "source": [
    "# List of available models\n",
    "\n",
    "from models import ISOF, OneClassSVM, RandomForest, DecisionTree, MLP, Adaboost, SVM, XGBoost, Model\n",
    "\n",
    "anomaly_detection_models = [\n",
    "    OneClassSVM, # One class support vector machine\n",
    "    ISOF, # Isolation Forest\n",
    "]\n",
    "\n",
    "classification_models = [\n",
    "    RandomForest, \n",
    "    DecisionTree, # (fastest to train)\n",
    "    MLP, # multi-layer perceptron (feed-forward neural network) (can be slow)\n",
    "    SVM # support vector machine (can be slow with many features)\n",
    "]\n",
    "\n",
    "# feature sets:\n",
    "# all = all features\n",
    "# time_model = [\"time_delta\", \"IP__ttl\", \"Ethernet__type\"]\n",
    "# src_dst_features = IP sources, desinations, TCP and UDP source and destination ports (only top 5 most common ports used to save computational capacity)\n",
    "# all_except_src_dst = all features excluding those used in src_dst \n",
    "# IP_features = all features starting with IP__ from list above\n",
    "# tcp_udp_modbus_icmp_boot = all features relating to TCP, UDP, MODBUS, ICMP, and BOOTD\n",
    "\n",
    "model_names = [\n",
    "    # feature sets: \n",
    "    raise Exception\n",
    "    # todo fill this in \n",
    "    \"all_dt\n",
    "    all_except_src_dst_dt\n",
    "    all_except_src_dst_ISOF\n",
    "    all_except_src_dst_MLP\n",
    "    all_except_src_dst_rf\n",
    "    all_ISOF\n",
    "    all_LOF\n",
    "    all_MLP\n",
    "    all_rf\n",
    "    IP_features_dt\n",
    "    IP_features_ISOF\n",
    "    IP_features_MLP\n",
    "    IP_features_rf\n",
    "    src_dst_features_dt\n",
    "    src_dst_features_ISOF\n",
    "    src_dst_features_LOF\n",
    "    src_dst_features_MLP\n",
    "    src_dst_features_rf\n",
    "    tcp_udp_modbus_icmp_boot_dt\n",
    "    tcp_udp_modbus_icmp_boot_ISOF\n",
    "    tcp_udp_modbus_icmp_boot_MLP\n",
    "    tcp_udp_modbus_icmp_boot_rf\n",
    "    time_model_dt\n",
    "    time_model_ISOF\n",
    "    time_model_LOF\n",
    "    time_model_MLP\n",
    "    time_model_rf\"\n",
    "]"
   ]
  },
  {
   "cell_type": "code",
   "execution_count": null,
   "id": "intellectual-coordinator",
   "metadata": {},
   "outputs": [],
   "source": [
    "# the training set consists of clean and TCP SYN and ping flood attacks. \n",
    "\n",
    "print(\"Training set\")\n",
    "train_data = get_training_data()\n",
    "contamination_ratio = train_data[\"malicious\"].sum() / len(train_data)\n",
    "\n",
    "# the test set consists of clean traffic and ping and MODBUS query flood attacks\n",
    "print(\"Testing set\")\n",
    "test_data = get_testing_set()\n",
    "\n",
    "# try loading an existing model and observing the results on the test data (for an existing model we do not need to supply the features)\n",
    "# the output will show the accuracy, f1 score, true posisitve rate, true negative rate and confusion matrix:\n",
    "# [[tn, fp],\n",
    "#  [fn, tp]]\n",
    "model = RandomForest(None, \"time_model_rf\")\n",
    "model.test(test_data)"
   ]
  },
  {
   "cell_type": "markdown",
   "id": "wireless-limit",
   "metadata": {},
   "source": [
    "## Part 1 exercises:"
   ]
  },
  {
   "cell_type": "code",
   "execution_count": 1,
   "id": "behavioral-henry",
   "metadata": {},
   "outputs": [],
   "source": [
    "# 1. try loading some other existing models and observe the performance on the test set\n",
    "# NB, if you don't know what kind of model it was you can use the generic class Model\n",
    "# \n",
    "# model = RandomForest(None, save_model_name=<model_name_here>)\n",
    "# model.test(test_data)\n",
    "#\n",
    "# e.g.1 \n",
    "# model = Model(None, save_model_name=\"all_ISOF\")\n",
    "# model.test(test_data)\n",
    "\n",
    "\n"
   ]
  },
  {
   "cell_type": "code",
   "execution_count": 2,
   "id": "convinced-passport",
   "metadata": {},
   "outputs": [],
   "source": [
    "# 2. if you have the computational resources, try training your own model\n",
    "# TIP: decision tree is the quickest and less features = faster training \n",
    "# use save_model_name to save your model so you can load it later (skip this if you don't want to save)\n",
    "# \n",
    "# model = <Algo_name>(<list_of_features>, [save_model_name=<model_name_here>, [contamination=contamination_ratio]])\n",
    "# model.test(test_data)\n",
    "# \n",
    "# e.g.1\n",
    "# model = DecisionTree([\"IP__proto\", \"IP__flags\"], save_model_name=\"2IPfeatures_dt\")\n",
    "# model.test(test_data)\n",
    "#\n",
    "# e.g.2\n",
    "# model = ISOF([\"IP__len\", \"ModbusADU__len\", \"UDP__len\"], save_model_name=\"len_ISOF\", contamination=contamination_ratio)\n",
    "\n"
   ]
  },
  {
   "cell_type": "code",
   "execution_count": 3,
   "id": "historical-effect",
   "metadata": {},
   "outputs": [],
   "source": [
    "# 3. Based on the performance metrics you have observed, which is the model you would use?"
   ]
  },
  {
   "cell_type": "code",
   "execution_count": 5,
   "id": "material-copying",
   "metadata": {},
   "outputs": [],
   "source": [
    "# 4. Which model do you think will be the most robust to adversarial manipulation? \n",
    "# Is the answer to 3. and 4. the same?"
   ]
  },
  {
   "cell_type": "markdown",
   "id": "american-remedy",
   "metadata": {},
   "source": [
    "### ----- end of part 1 ------"
   ]
  }
 ],
 "metadata": {
  "kernelspec": {
   "display_name": "Python 3",
   "language": "python",
   "name": "python3"
  },
  "language_info": {
   "codemirror_mode": {
    "name": "ipython",
    "version": 3
   },
   "file_extension": ".py",
   "mimetype": "text/x-python",
   "name": "python",
   "nbconvert_exporter": "python",
   "pygments_lexer": "ipython3",
   "version": "3.6.9"
  }
 },
 "nbformat": 4,
 "nbformat_minor": 5
}
