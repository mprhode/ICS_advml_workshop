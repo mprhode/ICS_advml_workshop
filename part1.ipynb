{
 "cells": [
  {
   "cell_type": "markdown",
   "id": "adaptive-garlic",
   "metadata": {},
   "source": [
    "# Building an ML classifier for malicious IDS traffic\n",
    "\n",
    "In this part of the workshop we will try to create a classifier to detect malicious traffic in an Industrial Control System (ICS) network\n",
    "\n"
   ]
  },
  {
   "cell_type": "code",
   "execution_count": 6,
   "id": "bulgarian-cylinder",
   "metadata": {},
   "outputs": [],
   "source": [
    "%matplotlib inline\n",
    "import matplotlib.pyplot as plt\n",
    "import seaborn as sns"
   ]
  },
  {
   "cell_type": "markdown",
   "id": "blank-substitute",
   "metadata": {},
   "source": [
    "### Dataset\n",
    "\n",
    "The [data](https://sites.google.com/a/uah.edu/tommy-morris-uah/ics-data-sets) we are using comes from Oak Ridge National Labs and was collected by Uttam Adhikari, Shengyi Pan, and Tommy Morris in collaboration with Raymond Borges and Justin Beaver. \n",
    "\n",
    "The data was collected on an ICS testbed representing a power system. More [details available here](http://www.ece.uah.edu/~thm0009/icsdatasets/PowerSystem_Dataset_README.pdf)  for those interested.\n",
    "\n",
    "Briefly, there are monitors 4 Intelligent Electronic Devices (IEDs) that can turn 4 respective breakers on and off. \n",
    "\n",
    "The dataset comprises 29 synchrophasor measurements (measurements of the electrical grid) for each phasor measuring unit (PMU) {R1, R2, R3, R4}. Additionally there are 4 features each collected from control panel logs, relay logs (from the 4 PMUs) and snort logs. \n",
    "\n",
    "In total there are 128 features\n"
   ]
  },
  {
   "cell_type": "code",
   "execution_count": 8,
   "id": "practical-thong",
   "metadata": {},
   "outputs": [
    {
     "name": "stdout",
     "output_type": "stream",
     "text": [
      "True     33025\n",
      "False    13646\n",
      "Name: malicious, dtype: int64\n",
      "['R1-PA1:VH' 'R1-PM1:V' 'R1-PA2:VH' 'R1-PM2:V' 'R1-PA3:VH' 'R1-PM3:V'\n",
      " 'R1-PA4:IH' 'R1-PM4:I' 'R1-PA5:IH' 'R1-PM5:I' 'R1-PA6:IH' 'R1-PM6:I'\n",
      " 'R1-PA7:VH' 'R1-PM7:V' 'R1-PA8:VH' 'R1-PM8:V' 'R1-PA9:VH' 'R1-PM9:V'\n",
      " 'R1-PA10:IH' 'R1-PM10:I' 'R1-PA11:IH' 'R1-PM11:I' 'R1-PA12:IH'\n",
      " 'R1-PM12:I' 'R1:F' 'R1:DF' 'R1-PA:Z' 'R1-PA:ZH' 'R1:S' 'R2-PA1:VH'\n",
      " 'R2-PM1:V' 'R2-PA2:VH' 'R2-PM2:V' 'R2-PA3:VH' 'R2-PM3:V' 'R2-PA4:IH'\n",
      " 'R2-PM4:I' 'R2-PA5:IH' 'R2-PM5:I' 'R2-PA6:IH' 'R2-PM6:I' 'R2-PA7:VH'\n",
      " 'R2-PM7:V' 'R2-PA8:VH' 'R2-PM8:V' 'R2-PA9:VH' 'R2-PM9:V' 'R2-PA10:IH'\n",
      " 'R2-PM10:I' 'R2-PA11:IH' 'R2-PM11:I' 'R2-PA12:IH' 'R2-PM12:I' 'R2:F'\n",
      " 'R2:DF' 'R2-PA:Z' 'R2-PA:ZH' 'R2:S' 'R3-PA1:VH' 'R3-PM1:V' 'R3-PA2:VH'\n",
      " 'R3-PM2:V' 'R3-PA3:VH' 'R3-PM3:V' 'R3-PA4:IH' 'R3-PM4:I' 'R3-PA5:IH'\n",
      " 'R3-PM5:I' 'R3-PA6:IH' 'R3-PM6:I' 'R3-PA7:VH' 'R3-PM7:V' 'R3-PA8:VH'\n",
      " 'R3-PM8:V' 'R3-PA9:VH' 'R3-PM9:V' 'R3-PA10:IH' 'R3-PM10:I' 'R3-PA11:IH'\n",
      " 'R3-PM11:I' 'R3-PA12:IH' 'R3-PM12:I' 'R3:F' 'R3:DF' 'R3-PA:Z' 'R3-PA:ZH'\n",
      " 'R3:S' 'R4-PA1:VH' 'R4-PM1:V' 'R4-PA2:VH' 'R4-PM2:V' 'R4-PA3:VH'\n",
      " 'R4-PM3:V' 'R4-PA4:IH' 'R4-PM4:I' 'R4-PA5:IH' 'R4-PM5:I' 'R4-PA6:IH'\n",
      " 'R4-PM6:I' 'R4-PA7:VH' 'R4-PM7:V' 'R4-PA8:VH' 'R4-PM8:V' 'R4-PA9:VH'\n",
      " 'R4-PM9:V' 'R4-PA10:IH' 'R4-PM10:I' 'R4-PA11:IH' 'R4-PM11:I' 'R4-PA12:IH'\n",
      " 'R4-PM12:I' 'R4:F' 'R4:DF' 'R4-PA:Z' 'R4-PA:ZH' 'R4:S'\n",
      " 'control_panel_log1' 'control_panel_log2' 'control_panel_log3'\n",
      " 'control_panel_log4' 'relay1_log' 'relay2_log' 'relay3_log' 'relay4_log'\n",
      " 'snort_log1' 'snort_log2' 'snort_log3' 'snort_log4' 'marker' 'malicious']\n"
     ]
    },
    {
     "ename": "KeyError",
     "evalue": "'Requested level (R1-PA1:VH) does not match index name (None)'",
     "output_type": "error",
     "traceback": [
      "\u001b[0;31m---------------------------------------------------------------------------\u001b[0m",
      "\u001b[0;31mKeyError\u001b[0m                                  Traceback (most recent call last)",
      "\u001b[0;32m<ipython-input-8-f10d2aaa499a>\u001b[0m in \u001b[0;36m<module>\u001b[0;34m\u001b[0m\n\u001b[1;32m     33\u001b[0m \u001b[0;34m\u001b[0m\u001b[0m\n\u001b[1;32m     34\u001b[0m \u001b[0;31m# plot features\u001b[0m\u001b[0;34m\u001b[0m\u001b[0;34m\u001b[0m\u001b[0;34m\u001b[0m\u001b[0m\n\u001b[0;32m---> 35\u001b[0;31m \u001b[0mtraining_data\u001b[0m \u001b[0;34m=\u001b[0m \u001b[0mtraining_data\u001b[0m\u001b[0;34m.\u001b[0m\u001b[0munstack\u001b[0m\u001b[0;34m(\u001b[0m\u001b[0mfeatures\u001b[0m\u001b[0;34m)\u001b[0m\u001b[0;34m.\u001b[0m\u001b[0mreset_index\u001b[0m\u001b[0;34m(\u001b[0m\u001b[0;34m)\u001b[0m\u001b[0;34m\u001b[0m\u001b[0;34m\u001b[0m\u001b[0m\n\u001b[0m\u001b[1;32m     36\u001b[0m \u001b[0mprint\u001b[0m\u001b[0;34m(\u001b[0m\u001b[0mtraining_data\u001b[0m\u001b[0;34m)\u001b[0m\u001b[0;34m\u001b[0m\u001b[0;34m\u001b[0m\u001b[0m\n\u001b[1;32m     37\u001b[0m ax = sns.violinplot(x=\"day\", y=\"total_bill\", hue=\"malicious\",\n",
      "\u001b[0;32m~/projects/ICS_advml_workshop/myvirtualvenv/lib/python3.6/site-packages/pandas/core/frame.py\u001b[0m in \u001b[0;36munstack\u001b[0;34m(self, level, fill_value)\u001b[0m\n\u001b[1;32m   7144\u001b[0m         \u001b[0;32mfrom\u001b[0m \u001b[0mpandas\u001b[0m\u001b[0;34m.\u001b[0m\u001b[0mcore\u001b[0m\u001b[0;34m.\u001b[0m\u001b[0mreshape\u001b[0m\u001b[0;34m.\u001b[0m\u001b[0mreshape\u001b[0m \u001b[0;32mimport\u001b[0m \u001b[0munstack\u001b[0m\u001b[0;34m\u001b[0m\u001b[0;34m\u001b[0m\u001b[0m\n\u001b[1;32m   7145\u001b[0m \u001b[0;34m\u001b[0m\u001b[0m\n\u001b[0;32m-> 7146\u001b[0;31m         \u001b[0;32mreturn\u001b[0m \u001b[0munstack\u001b[0m\u001b[0;34m(\u001b[0m\u001b[0mself\u001b[0m\u001b[0;34m,\u001b[0m \u001b[0mlevel\u001b[0m\u001b[0;34m,\u001b[0m \u001b[0mfill_value\u001b[0m\u001b[0;34m)\u001b[0m\u001b[0;34m\u001b[0m\u001b[0;34m\u001b[0m\u001b[0m\n\u001b[0m\u001b[1;32m   7147\u001b[0m \u001b[0;34m\u001b[0m\u001b[0m\n\u001b[1;32m   7148\u001b[0m     @Appender(\n",
      "\u001b[0;32m~/projects/ICS_advml_workshop/myvirtualvenv/lib/python3.6/site-packages/pandas/core/reshape/reshape.py\u001b[0m in \u001b[0;36munstack\u001b[0;34m(obj, level, fill_value)\u001b[0m\n\u001b[1;32m    406\u001b[0m             \u001b[0;31m# _unstack_multiple only handles MultiIndexes,\u001b[0m\u001b[0;34m\u001b[0m\u001b[0;34m\u001b[0m\u001b[0;34m\u001b[0m\u001b[0m\n\u001b[1;32m    407\u001b[0m             \u001b[0;31m# and isn't needed for a single level\u001b[0m\u001b[0;34m\u001b[0m\u001b[0;34m\u001b[0m\u001b[0;34m\u001b[0m\u001b[0m\n\u001b[0;32m--> 408\u001b[0;31m             \u001b[0;32mreturn\u001b[0m \u001b[0m_unstack_multiple\u001b[0m\u001b[0;34m(\u001b[0m\u001b[0mobj\u001b[0m\u001b[0;34m,\u001b[0m \u001b[0mlevel\u001b[0m\u001b[0;34m,\u001b[0m \u001b[0mfill_value\u001b[0m\u001b[0;34m=\u001b[0m\u001b[0mfill_value\u001b[0m\u001b[0;34m)\u001b[0m\u001b[0;34m\u001b[0m\u001b[0;34m\u001b[0m\u001b[0m\n\u001b[0m\u001b[1;32m    409\u001b[0m         \u001b[0;32melse\u001b[0m\u001b[0;34m:\u001b[0m\u001b[0;34m\u001b[0m\u001b[0;34m\u001b[0m\u001b[0m\n\u001b[1;32m    410\u001b[0m             \u001b[0mlevel\u001b[0m \u001b[0;34m=\u001b[0m \u001b[0mlevel\u001b[0m\u001b[0;34m[\u001b[0m\u001b[0;36m0\u001b[0m\u001b[0;34m]\u001b[0m\u001b[0;34m\u001b[0m\u001b[0;34m\u001b[0m\u001b[0m\n",
      "\u001b[0;32m~/projects/ICS_advml_workshop/myvirtualvenv/lib/python3.6/site-packages/pandas/core/reshape/reshape.py\u001b[0m in \u001b[0;36m_unstack_multiple\u001b[0;34m(data, clocs, fill_value)\u001b[0m\n\u001b[1;32m    327\u001b[0m     \u001b[0;32mif\u001b[0m \u001b[0mclocs\u001b[0m \u001b[0;32min\u001b[0m \u001b[0mindex\u001b[0m\u001b[0;34m.\u001b[0m\u001b[0mnames\u001b[0m\u001b[0;34m:\u001b[0m\u001b[0;34m\u001b[0m\u001b[0;34m\u001b[0m\u001b[0m\n\u001b[1;32m    328\u001b[0m         \u001b[0mclocs\u001b[0m \u001b[0;34m=\u001b[0m \u001b[0;34m[\u001b[0m\u001b[0mclocs\u001b[0m\u001b[0;34m]\u001b[0m\u001b[0;34m\u001b[0m\u001b[0;34m\u001b[0m\u001b[0m\n\u001b[0;32m--> 329\u001b[0;31m     \u001b[0mclocs\u001b[0m \u001b[0;34m=\u001b[0m \u001b[0;34m[\u001b[0m\u001b[0mindex\u001b[0m\u001b[0;34m.\u001b[0m\u001b[0m_get_level_number\u001b[0m\u001b[0;34m(\u001b[0m\u001b[0mi\u001b[0m\u001b[0;34m)\u001b[0m \u001b[0;32mfor\u001b[0m \u001b[0mi\u001b[0m \u001b[0;32min\u001b[0m \u001b[0mclocs\u001b[0m\u001b[0;34m]\u001b[0m\u001b[0;34m\u001b[0m\u001b[0;34m\u001b[0m\u001b[0m\n\u001b[0m\u001b[1;32m    330\u001b[0m \u001b[0;34m\u001b[0m\u001b[0m\n\u001b[1;32m    331\u001b[0m     \u001b[0mrlocs\u001b[0m \u001b[0;34m=\u001b[0m \u001b[0;34m[\u001b[0m\u001b[0mi\u001b[0m \u001b[0;32mfor\u001b[0m \u001b[0mi\u001b[0m \u001b[0;32min\u001b[0m \u001b[0mrange\u001b[0m\u001b[0;34m(\u001b[0m\u001b[0mindex\u001b[0m\u001b[0;34m.\u001b[0m\u001b[0mnlevels\u001b[0m\u001b[0;34m)\u001b[0m \u001b[0;32mif\u001b[0m \u001b[0mi\u001b[0m \u001b[0;32mnot\u001b[0m \u001b[0;32min\u001b[0m \u001b[0mclocs\u001b[0m\u001b[0;34m]\u001b[0m\u001b[0;34m\u001b[0m\u001b[0;34m\u001b[0m\u001b[0m\n",
      "\u001b[0;32m~/projects/ICS_advml_workshop/myvirtualvenv/lib/python3.6/site-packages/pandas/core/reshape/reshape.py\u001b[0m in \u001b[0;36m<listcomp>\u001b[0;34m(.0)\u001b[0m\n\u001b[1;32m    327\u001b[0m     \u001b[0;32mif\u001b[0m \u001b[0mclocs\u001b[0m \u001b[0;32min\u001b[0m \u001b[0mindex\u001b[0m\u001b[0;34m.\u001b[0m\u001b[0mnames\u001b[0m\u001b[0;34m:\u001b[0m\u001b[0;34m\u001b[0m\u001b[0;34m\u001b[0m\u001b[0m\n\u001b[1;32m    328\u001b[0m         \u001b[0mclocs\u001b[0m \u001b[0;34m=\u001b[0m \u001b[0;34m[\u001b[0m\u001b[0mclocs\u001b[0m\u001b[0;34m]\u001b[0m\u001b[0;34m\u001b[0m\u001b[0;34m\u001b[0m\u001b[0m\n\u001b[0;32m--> 329\u001b[0;31m     \u001b[0mclocs\u001b[0m \u001b[0;34m=\u001b[0m \u001b[0;34m[\u001b[0m\u001b[0mindex\u001b[0m\u001b[0;34m.\u001b[0m\u001b[0m_get_level_number\u001b[0m\u001b[0;34m(\u001b[0m\u001b[0mi\u001b[0m\u001b[0;34m)\u001b[0m \u001b[0;32mfor\u001b[0m \u001b[0mi\u001b[0m \u001b[0;32min\u001b[0m \u001b[0mclocs\u001b[0m\u001b[0;34m]\u001b[0m\u001b[0;34m\u001b[0m\u001b[0;34m\u001b[0m\u001b[0m\n\u001b[0m\u001b[1;32m    330\u001b[0m \u001b[0;34m\u001b[0m\u001b[0m\n\u001b[1;32m    331\u001b[0m     \u001b[0mrlocs\u001b[0m \u001b[0;34m=\u001b[0m \u001b[0;34m[\u001b[0m\u001b[0mi\u001b[0m \u001b[0;32mfor\u001b[0m \u001b[0mi\u001b[0m \u001b[0;32min\u001b[0m \u001b[0mrange\u001b[0m\u001b[0;34m(\u001b[0m\u001b[0mindex\u001b[0m\u001b[0;34m.\u001b[0m\u001b[0mnlevels\u001b[0m\u001b[0;34m)\u001b[0m \u001b[0;32mif\u001b[0m \u001b[0mi\u001b[0m \u001b[0;32mnot\u001b[0m \u001b[0;32min\u001b[0m \u001b[0mclocs\u001b[0m\u001b[0;34m]\u001b[0m\u001b[0;34m\u001b[0m\u001b[0;34m\u001b[0m\u001b[0m\n",
      "\u001b[0;32m~/projects/ICS_advml_workshop/myvirtualvenv/lib/python3.6/site-packages/pandas/core/indexes/base.py\u001b[0m in \u001b[0;36m_get_level_number\u001b[0;34m(self, level)\u001b[0m\n\u001b[1;32m   1413\u001b[0m \u001b[0;34m\u001b[0m\u001b[0m\n\u001b[1;32m   1414\u001b[0m     \u001b[0;32mdef\u001b[0m \u001b[0m_get_level_number\u001b[0m\u001b[0;34m(\u001b[0m\u001b[0mself\u001b[0m\u001b[0;34m,\u001b[0m \u001b[0mlevel\u001b[0m\u001b[0;34m)\u001b[0m \u001b[0;34m->\u001b[0m \u001b[0mint\u001b[0m\u001b[0;34m:\u001b[0m\u001b[0;34m\u001b[0m\u001b[0;34m\u001b[0m\u001b[0m\n\u001b[0;32m-> 1415\u001b[0;31m         \u001b[0mself\u001b[0m\u001b[0;34m.\u001b[0m\u001b[0m_validate_index_level\u001b[0m\u001b[0;34m(\u001b[0m\u001b[0mlevel\u001b[0m\u001b[0;34m)\u001b[0m\u001b[0;34m\u001b[0m\u001b[0;34m\u001b[0m\u001b[0m\n\u001b[0m\u001b[1;32m   1416\u001b[0m         \u001b[0;32mreturn\u001b[0m \u001b[0;36m0\u001b[0m\u001b[0;34m\u001b[0m\u001b[0;34m\u001b[0m\u001b[0m\n\u001b[1;32m   1417\u001b[0m \u001b[0;34m\u001b[0m\u001b[0m\n",
      "\u001b[0;32m~/projects/ICS_advml_workshop/myvirtualvenv/lib/python3.6/site-packages/pandas/core/indexes/base.py\u001b[0m in \u001b[0;36m_validate_index_level\u001b[0;34m(self, level)\u001b[0m\n\u001b[1;32m   1409\u001b[0m         \u001b[0;32melif\u001b[0m \u001b[0mlevel\u001b[0m \u001b[0;34m!=\u001b[0m \u001b[0mself\u001b[0m\u001b[0;34m.\u001b[0m\u001b[0mname\u001b[0m\u001b[0;34m:\u001b[0m\u001b[0;34m\u001b[0m\u001b[0;34m\u001b[0m\u001b[0m\n\u001b[1;32m   1410\u001b[0m             raise KeyError(\n\u001b[0;32m-> 1411\u001b[0;31m                 \u001b[0;34mf\"Requested level ({level}) does not match index name ({self.name})\"\u001b[0m\u001b[0;34m\u001b[0m\u001b[0;34m\u001b[0m\u001b[0m\n\u001b[0m\u001b[1;32m   1412\u001b[0m             )\n\u001b[1;32m   1413\u001b[0m \u001b[0;34m\u001b[0m\u001b[0m\n",
      "\u001b[0;31mKeyError\u001b[0m: 'Requested level (R1-PA1:VH) does not match index name (None)'"
     ]
    }
   ],
   "source": [
    "training_data = get_training_data()\n",
    "\n",
    "# List possible features\n",
    "features = [\n",
    "    # R1\n",
    "    'R1-PA1:VH', 'R1-PM1:V', 'R1-PA2:VH', 'R1-PM2:V', 'R1-PA3:VH', 'R1-PM3:V', 'R1-PA4:IH', 'R1-PM4:I', \n",
    "    'R1-PA5:IH', 'R1-PM5:I', 'R1-PA6:IH', 'R1-PM6:I', 'R1-PA7:VH', 'R1-PM7:V', 'R1-PA8:VH', 'R1-PM8:V', \n",
    "    'R1-PA9:VH', 'R1-PM9:V', 'R1-PA10:IH', 'R1-PM10:I', 'R1-PA11:IH', 'R1-PM11:I', 'R1-PA12:IH', \n",
    "    'R1-PM12:I', 'R1:F', 'R1:DF', 'R1-PA:Z', 'R1-PA:ZH', 'R1:S', \n",
    "    \n",
    "    'R2-PA1:VH', 'R2-PM1:V', 'R2-PA2:VH', 'R2-PM2:V', 'R2-PA3:VH', 'R2-PM3:V', 'R2-PA4:IH', 'R2-PM4:I', \n",
    "    'R2-PA5:IH', 'R2-PM5:I', 'R2-PA6:IH', 'R2-PM6:I', 'R2-PA7:VH', 'R2-PM7:V', 'R2-PA8:VH', 'R2-PM8:V', \n",
    "    'R2-PA9:VH', 'R2-PM9:V', 'R2-PA10:IH', 'R2-PM10:I', 'R2-PA11:IH', 'R2-PM11:I', 'R2-PA12:IH', 'R2-PM12:I', \n",
    "    'R2:F', 'R2:DF', 'R2-PA:Z', 'R2-PA:ZH', 'R2:S', \n",
    "    \n",
    "    'R3-PA1:VH', 'R3-PM1:V', 'R3-PA2:VH', 'R3-PM2:V', 'R3-PA3:VH', 'R3-PM3:V', 'R3-PA4:IH', 'R3-PM4:I', \n",
    "    'R3-PA5:IH', 'R3-PM5:I', 'R3-PA6:IH', 'R3-PM6:I', 'R3-PA7:VH', 'R3-PM7:V', 'R3-PA8:VH', 'R3-PM8:V', \n",
    "    'R3-PA9:VH', 'R3-PM9:V', 'R3-PA10:IH', 'R3-PM10:I', 'R3-PA11:IH', 'R3-PM11:I', 'R3-PA12:IH', 'R3-PM12:I', \n",
    "    'R3:F', 'R3:DF', 'R3-PA:Z', 'R3-PA:ZH', 'R3:S', \n",
    "    \n",
    "    'R4-PA1:VH', 'R4-PM1:V', 'R4-PA2:VH', 'R4-PM2:V', 'R4-PA3:VH', 'R4-PM3:V', 'R4-PA4:IH', 'R4-PM4:I', \n",
    "    'R4-PA5:IH', 'R4-PM5:I', 'R4-PA6:IH', 'R4-PM6:I', 'R4-PA7:VH', 'R4-PM7:V', 'R4-PA8:VH', 'R4-PM8:V', \n",
    "    'R4-PA9:VH', 'R4-PM9:V', 'R4-PA10:IH', 'R4-PM10:I', 'R4-PA11:IH', 'R4-PM11:I', 'R4-PA12:IH', \n",
    "    'R4-PM12:I', 'R4:F', 'R4:DF', 'R4-PA:Z', 'R4-PA:ZH', 'R4:S', \n",
    "    \n",
    "    'control_panel_log1', 'control_panel_log2', 'control_panel_log3', 'control_panel_log4', \n",
    "    \n",
    "    'relay1_log', 'relay2_log', 'relay3_log', 'relay4_log', \n",
    "    \n",
    "    'snort_log1', 'snort_log2', 'snort_log3', 'snort_log4'\n",
    "]\n",
    "\n",
    "\n",
    "# todo quick seaborn plot of features\n"
   ]
  },
  {
   "cell_type": "code",
   "execution_count": 3,
   "id": "transsexual-messenger",
   "metadata": {},
   "outputs": [],
   "source": [
    "# List models and features\n",
    "\n",
    "from sklearn.ensemble import RandomForestClassifier, RandomForestRegressor\n",
    "\n",
    "\n",
    "anomaly_detection_models = [\n",
    "    RandomForestRegressor, \n",
    "]\n",
    "\n",
    "classification_models = [\n",
    "    \n",
    "]"
   ]
  },
  {
   "cell_type": "code",
   "execution_count": 4,
   "id": "intellectual-coordinator",
   "metadata": {},
   "outputs": [
    {
     "name": "stdout",
     "output_type": "stream",
     "text": [
      "True     33025\n",
      "False    13646\n",
      "Name: malicious, dtype: int64\n",
      "['R1-PA1:VH' 'R1-PM1:V' 'R1-PA2:VH' 'R1-PM2:V' 'R1-PA3:VH' 'R1-PM3:V'\n",
      " 'R1-PA4:IH' 'R1-PM4:I' 'R1-PA5:IH' 'R1-PM5:I' 'R1-PA6:IH' 'R1-PM6:I'\n",
      " 'R1-PA7:VH' 'R1-PM7:V' 'R1-PA8:VH' 'R1-PM8:V' 'R1-PA9:VH' 'R1-PM9:V'\n",
      " 'R1-PA10:IH' 'R1-PM10:I' 'R1-PA11:IH' 'R1-PM11:I' 'R1-PA12:IH'\n",
      " 'R1-PM12:I' 'R1:F' 'R1:DF' 'R1-PA:Z' 'R1-PA:ZH' 'R1:S' 'R2-PA1:VH'\n",
      " 'R2-PM1:V' 'R2-PA2:VH' 'R2-PM2:V' 'R2-PA3:VH' 'R2-PM3:V' 'R2-PA4:IH'\n",
      " 'R2-PM4:I' 'R2-PA5:IH' 'R2-PM5:I' 'R2-PA6:IH' 'R2-PM6:I' 'R2-PA7:VH'\n",
      " 'R2-PM7:V' 'R2-PA8:VH' 'R2-PM8:V' 'R2-PA9:VH' 'R2-PM9:V' 'R2-PA10:IH'\n",
      " 'R2-PM10:I' 'R2-PA11:IH' 'R2-PM11:I' 'R2-PA12:IH' 'R2-PM12:I' 'R2:F'\n",
      " 'R2:DF' 'R2-PA:Z' 'R2-PA:ZH' 'R2:S' 'R3-PA1:VH' 'R3-PM1:V' 'R3-PA2:VH'\n",
      " 'R3-PM2:V' 'R3-PA3:VH' 'R3-PM3:V' 'R3-PA4:IH' 'R3-PM4:I' 'R3-PA5:IH'\n",
      " 'R3-PM5:I' 'R3-PA6:IH' 'R3-PM6:I' 'R3-PA7:VH' 'R3-PM7:V' 'R3-PA8:VH'\n",
      " 'R3-PM8:V' 'R3-PA9:VH' 'R3-PM9:V' 'R3-PA10:IH' 'R3-PM10:I' 'R3-PA11:IH'\n",
      " 'R3-PM11:I' 'R3-PA12:IH' 'R3-PM12:I' 'R3:F' 'R3:DF' 'R3-PA:Z' 'R3-PA:ZH'\n",
      " 'R3:S' 'R4-PA1:VH' 'R4-PM1:V' 'R4-PA2:VH' 'R4-PM2:V' 'R4-PA3:VH'\n",
      " 'R4-PM3:V' 'R4-PA4:IH' 'R4-PM4:I' 'R4-PA5:IH' 'R4-PM5:I' 'R4-PA6:IH'\n",
      " 'R4-PM6:I' 'R4-PA7:VH' 'R4-PM7:V' 'R4-PA8:VH' 'R4-PM8:V' 'R4-PA9:VH'\n",
      " 'R4-PM9:V' 'R4-PA10:IH' 'R4-PM10:I' 'R4-PA11:IH' 'R4-PM11:I' 'R4-PA12:IH'\n",
      " 'R4-PM12:I' 'R4:F' 'R4:DF' 'R4-PA:Z' 'R4-PA:ZH' 'R4:S'\n",
      " 'control_panel_log1' 'control_panel_log2' 'control_panel_log3'\n",
      " 'control_panel_log4' 'relay1_log' 'relay2_log' 'relay3_log' 'relay4_log'\n",
      " 'snort_log1' 'snort_log2' 'snort_log3' 'snort_log4' 'marker' 'malicious']\n",
      "   R1-PA1:VH     R1-PM1:V  R1-PA2:VH     R1-PM2:V   R1-PA3:VH     R1-PM3:V  \\\n",
      "0  70.399324  127673.0908 -49.572308  127648.0176 -169.578319  127723.2374   \n",
      "1  73.688102  130280.7109 -46.300719  130255.6377 -166.278082  130355.9307   \n",
      "2  73.733939  130305.7842 -46.254883  130280.7109 -166.232245  130381.0040   \n",
      "3  74.083443  130581.5902 -45.899649  130556.5169 -165.882741  130656.8100   \n",
      "4  74.553268  131083.0556 -45.424094  131057.9823 -165.424375  131158.2754   \n",
      "\n",
      "   R1-PA4:IH   R1-PM4:I  R1-PA5:IH   R1-PM5:I  ...  relay1_log  relay2_log  \\\n",
      "0  65.689611  605.91099 -57.003571  626.78553  ...           0           0   \n",
      "1  71.831719  483.59351 -50.947407  500.98896  ...           0           0   \n",
      "2  71.808800  483.59351 -50.913030  500.98896  ...           0           0   \n",
      "3  72.152575  482.86107 -50.437475  499.15786  ...           0           0   \n",
      "4  72.118198  484.50906 -50.013486  497.69298  ...           0           0   \n",
      "\n",
      "   relay3_log  relay4_log  snort_log1  snort_log2  snort_log3  snort_log4  \\\n",
      "0           0           0           0           0           0           0   \n",
      "1           0           0           0           0           0           0   \n",
      "2           0           0           0           0           0           0   \n",
      "3           0           0           0           0           0           0   \n",
      "4           0           0           0           0           0           0   \n",
      "\n",
      "     marker  malicious  \n",
      "0  NoEvents      False  \n",
      "1  NoEvents      False  \n",
      "2  NoEvents      False  \n",
      "3  NoEvents      False  \n",
      "4  NoEvents      False  \n",
      "\n",
      "[5 rows x 130 columns]\n"
     ]
    }
   ],
   "source": [
    "# Load the training data\n",
    "import pandas as pd\n",
    "from utils import get_training_data, Model\n",
    "\n",
    "train_data = get_training_data(balance=True)\n",
    "print(train_data.head())\n"
   ]
  },
  {
   "cell_type": "code",
   "execution_count": 5,
   "id": "behavioral-henry",
   "metadata": {},
   "outputs": [],
   "source": [
    "model_config = {\n",
    "    \"features\": [\"snort_log1\", \"snort_log2\", \"snort_log3\", \"snort_log4\"],\n",
    "    \"algorithm\": RandomForestClassifier,\n",
    "    \"problem\": \"classify\",\n",
    "    \"model_name\": \"snort_RF\"\n",
    "}\n",
    "\n",
    "m1 = Model(model_config)\n",
    "m1.train(train_data)\n"
   ]
  },
  {
   "cell_type": "code",
   "execution_count": null,
   "id": "convinced-passport",
   "metadata": {},
   "outputs": [],
   "source": [
    "# todo could try anomaly with no event vs natural event (leave one out...)"
   ]
  }
 ],
 "metadata": {
  "kernelspec": {
   "display_name": "Python 3",
   "language": "python",
   "name": "python3"
  },
  "language_info": {
   "codemirror_mode": {
    "name": "ipython",
    "version": 3
   },
   "file_extension": ".py",
   "mimetype": "text/x-python",
   "name": "python",
   "nbconvert_exporter": "python",
   "pygments_lexer": "ipython3",
   "version": "3.6.9"
  }
 },
 "nbformat": 4,
 "nbformat_minor": 5
}
