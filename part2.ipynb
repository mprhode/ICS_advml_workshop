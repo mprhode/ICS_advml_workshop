{
 "cells": [
  {
   "cell_type": "markdown",
   "id": "infectious-excerpt",
   "metadata": {},
   "source": [
    "# Attacking an ML classifier for malicious IDS traffic\n",
    "\n",
    "In this part of the workshop we will generate adversarial samples to fool the classifier(s) from part 1\n"
   ]
  },
  {
   "cell_type": "markdown",
   "id": "naked-preview",
   "metadata": {},
   "source": [
    "White-box attacks\n",
    "Grey-box attacks\n",
    "Black-box attacks\n",
    "\n",
    "What fields can we realistically alter?"
   ]
  },
  {
   "cell_type": "code",
   "execution_count": null,
   "id": "extended-blink",
   "metadata": {},
   "outputs": [],
   "source": []
  }
 ],
 "metadata": {
  "kernelspec": {
   "display_name": "Python 3",
   "language": "python",
   "name": "python3"
  },
  "language_info": {
   "codemirror_mode": {
    "name": "ipython",
    "version": 3
   },
   "file_extension": ".py",
   "mimetype": "text/x-python",
   "name": "python",
   "nbconvert_exporter": "python",
   "pygments_lexer": "ipython3",
   "version": "3.6.9"
  }
 },
 "nbformat": 4,
 "nbformat_minor": 5
}
