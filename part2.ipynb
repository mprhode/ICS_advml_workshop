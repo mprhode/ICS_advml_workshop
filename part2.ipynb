{
 "cells": [
  {
   "cell_type": "markdown",
   "id": "infectious-excerpt",
   "metadata": {},
   "source": [
    "# Attacking an ML classifier for malicious IDS traffic\n",
    "\n",
    "In this part of the workshop we will generate adversarial samples to fool the classifiers from part 1\n",
    "\n",
    "There are many ways that an ML classifier can be manipulated. \n",
    "\n",
    "Model evasion attacks use adversarial samples, specially crafted samples which retain the original class in reality but are misclassified by the model\n",
    "\n",
    "There are many open source implemenations of adversarial attacks. Here we will use the [Adversarial Robustness Toolbox (ART)](https://github.com/Trusted-AI/adversarial-robustness-toolbox) which has the advantage of compatibility with multiple python machine learning libraries across many types of attack. \n"
   ]
  },
  {
   "cell_type": "code",
   "execution_count": 3,
   "id": "stylish-surrey",
   "metadata": {},
   "outputs": [],
   "source": [
    "from art.attacks.evasion import DecisionTreeAttack, HopSkipJump\n",
    "from art.estimators.classification import SklearnClassifier\n",
    "from art.estimators.classification.scikitlearn import ScikitlearnDecisionTreeClassifier\n",
    "\n",
    "from models import Model\n",
    "from utils import compare_data, parse_df_for_pcap_validity\n",
    "import numpy as np"
   ]
  },
  {
   "cell_type": "markdown",
   "id": "naked-preview",
   "metadata": {},
   "source": [
    "## White Box Attack\n",
    " \n",
    "First we will assume the adversary has full knowledge of the classifier and use the [Decision Tree Attack (Papernot, McDaniel, Goodfellow 2016)](https://arxiv.org/abs/1605.07277) (on the decision tree models). "
   ]
  },
  {
   "cell_type": "code",
   "execution_count": 4,
   "id": "committed-volume",
   "metadata": {},
   "outputs": [
    {
     "name": "stdout",
     "output_type": "stream",
     "text": [
      "save_model_path exists, loading model and config....\n",
      "DecisionTreeClassifier()\n",
      "['time_delta', 'IP__ttl', 'Ethernet__type_2048.0', 'Ethernet__type_0.0', 'Ethernet__type_2054.0', 'Ethernet__type_34525.0']\n",
      "Classification before adversarial evasion\n",
      "Opening datasets/AdversaryPingFlood.pcap ...\n"
     ]
    },
    {
     "name": "stderr",
     "output_type": "stream",
     "text": [
      "/home/tilda/projects/ICS_advml_workshop/models.py:124: YAMLLoadWarning: calling yaml.load() without Loader=... is deprecated, as the default Loader is unsafe. Please read https://msg.pyyaml.org/load for full details.\n",
      "  self.config = yaml.load(f)\n"
     ]
    },
    {
     "name": "stdout",
     "output_type": "stream",
     "text": [
      "done parsing datasets/AdversaryPingFlood.pcap\n",
      "-----\n",
      "Testing acc: 0.83, f1: 0.91, tpr: 0.83, tnr 0.00\n",
      "[[   0    0]\n",
      " [2042 9958]]\n",
      "-----\n"
     ]
    },
    {
     "ename": "ImportError",
     "evalue": "IProgress not found. Please update jupyter and ipywidgets. See https://ipywidgets.readthedocs.io/en/stable/user_install.html",
     "output_type": "error",
     "traceback": [
      "\u001b[0;31m---------------------------------------------------------------------------\u001b[0m",
      "\u001b[0;31mImportError\u001b[0m                               Traceback (most recent call last)",
      "\u001b[0;32m<ipython-input-4-3ff4c705b1be>\u001b[0m in \u001b[0;36m<module>\u001b[0;34m\u001b[0m\n\u001b[1;32m     21\u001b[0m \u001b[0;34m\u001b[0m\u001b[0m\n\u001b[1;32m     22\u001b[0m \u001b[0;31m# generate adversarial samples\u001b[0m\u001b[0;34m\u001b[0m\u001b[0;34m\u001b[0m\u001b[0;34m\u001b[0m\u001b[0m\n\u001b[0;32m---> 23\u001b[0;31m \u001b[0mx_test_adv\u001b[0m \u001b[0;34m=\u001b[0m \u001b[0mdt_attack\u001b[0m\u001b[0;34m.\u001b[0m\u001b[0mgenerate\u001b[0m\u001b[0;34m(\u001b[0m\u001b[0mx\u001b[0m\u001b[0;34m=\u001b[0m\u001b[0mtarget_attack_x\u001b[0m\u001b[0;34m)\u001b[0m\u001b[0;34m\u001b[0m\u001b[0;34m\u001b[0m\u001b[0m\n\u001b[0m\u001b[1;32m     24\u001b[0m \u001b[0;34m\u001b[0m\u001b[0m\n\u001b[1;32m     25\u001b[0m \u001b[0;31m# Check new classification accuracy\u001b[0m\u001b[0;34m\u001b[0m\u001b[0;34m\u001b[0m\u001b[0;34m\u001b[0m\u001b[0m\n",
      "\u001b[0;32m~/projects/ICS_advml_workshop/myvirtualvenv/lib/python3.6/site-packages/art/attacks/attack.py\u001b[0m in \u001b[0;36mreplacement_function\u001b[0;34m(self, *args, **kwargs)\u001b[0m\n\u001b[1;32m     72\u001b[0m                 \u001b[0;32mif\u001b[0m \u001b[0mlen\u001b[0m\u001b[0;34m(\u001b[0m\u001b[0margs\u001b[0m\u001b[0;34m)\u001b[0m \u001b[0;34m>\u001b[0m \u001b[0;36m0\u001b[0m\u001b[0;34m:\u001b[0m\u001b[0;34m\u001b[0m\u001b[0;34m\u001b[0m\u001b[0m\n\u001b[1;32m     73\u001b[0m                     \u001b[0margs\u001b[0m \u001b[0;34m=\u001b[0m \u001b[0mtuple\u001b[0m\u001b[0;34m(\u001b[0m\u001b[0mlst\u001b[0m\u001b[0;34m)\u001b[0m\u001b[0;34m\u001b[0m\u001b[0;34m\u001b[0m\u001b[0m\n\u001b[0;32m---> 74\u001b[0;31m                 \u001b[0;32mreturn\u001b[0m \u001b[0mfdict\u001b[0m\u001b[0;34m[\u001b[0m\u001b[0mfunc_name\u001b[0m\u001b[0;34m]\u001b[0m\u001b[0;34m(\u001b[0m\u001b[0mself\u001b[0m\u001b[0;34m,\u001b[0m \u001b[0;34m*\u001b[0m\u001b[0margs\u001b[0m\u001b[0;34m,\u001b[0m \u001b[0;34m**\u001b[0m\u001b[0mkwargs\u001b[0m\u001b[0;34m)\u001b[0m\u001b[0;34m\u001b[0m\u001b[0;34m\u001b[0m\u001b[0m\n\u001b[0m\u001b[1;32m     75\u001b[0m \u001b[0;34m\u001b[0m\u001b[0m\n\u001b[1;32m     76\u001b[0m             \u001b[0mreplacement_function\u001b[0m\u001b[0;34m.\u001b[0m\u001b[0m__doc__\u001b[0m \u001b[0;34m=\u001b[0m \u001b[0mfdict\u001b[0m\u001b[0;34m[\u001b[0m\u001b[0mfunc_name\u001b[0m\u001b[0;34m]\u001b[0m\u001b[0;34m.\u001b[0m\u001b[0m__doc__\u001b[0m\u001b[0;34m\u001b[0m\u001b[0;34m\u001b[0m\u001b[0m\n",
      "\u001b[0;32m~/projects/ICS_advml_workshop/myvirtualvenv/lib/python3.6/site-packages/art/attacks/evasion/decision_tree_attack.py\u001b[0m in \u001b[0;36mgenerate\u001b[0;34m(self, x, y, **kwargs)\u001b[0m\n\u001b[1;32m    112\u001b[0m         \u001b[0mx_adv\u001b[0m \u001b[0;34m=\u001b[0m \u001b[0mx\u001b[0m\u001b[0;34m.\u001b[0m\u001b[0mcopy\u001b[0m\u001b[0;34m(\u001b[0m\u001b[0;34m)\u001b[0m\u001b[0;34m\u001b[0m\u001b[0;34m\u001b[0m\u001b[0m\n\u001b[1;32m    113\u001b[0m \u001b[0;34m\u001b[0m\u001b[0m\n\u001b[0;32m--> 114\u001b[0;31m         \u001b[0;32mfor\u001b[0m \u001b[0mindex\u001b[0m \u001b[0;32min\u001b[0m \u001b[0mtrange\u001b[0m\u001b[0;34m(\u001b[0m\u001b[0mx_adv\u001b[0m\u001b[0;34m.\u001b[0m\u001b[0mshape\u001b[0m\u001b[0;34m[\u001b[0m\u001b[0;36m0\u001b[0m\u001b[0;34m]\u001b[0m\u001b[0;34m,\u001b[0m \u001b[0mdesc\u001b[0m\u001b[0;34m=\u001b[0m\u001b[0;34m\"Decision tree attack\"\u001b[0m\u001b[0;34m,\u001b[0m \u001b[0mdisable\u001b[0m\u001b[0;34m=\u001b[0m\u001b[0;32mnot\u001b[0m \u001b[0mself\u001b[0m\u001b[0;34m.\u001b[0m\u001b[0mverbose\u001b[0m\u001b[0;34m)\u001b[0m\u001b[0;34m:\u001b[0m\u001b[0;34m\u001b[0m\u001b[0;34m\u001b[0m\u001b[0m\n\u001b[0m\u001b[1;32m    115\u001b[0m             \u001b[0mpath\u001b[0m \u001b[0;34m=\u001b[0m \u001b[0mself\u001b[0m\u001b[0;34m.\u001b[0m\u001b[0mestimator\u001b[0m\u001b[0;34m.\u001b[0m\u001b[0mget_decision_path\u001b[0m\u001b[0;34m(\u001b[0m\u001b[0mx_adv\u001b[0m\u001b[0;34m[\u001b[0m\u001b[0mindex\u001b[0m\u001b[0;34m]\u001b[0m\u001b[0;34m)\u001b[0m\u001b[0;34m\u001b[0m\u001b[0;34m\u001b[0m\u001b[0m\n\u001b[1;32m    116\u001b[0m             \u001b[0mlegitimate_class\u001b[0m \u001b[0;34m=\u001b[0m \u001b[0mnp\u001b[0m\u001b[0;34m.\u001b[0m\u001b[0margmax\u001b[0m\u001b[0;34m(\u001b[0m\u001b[0mself\u001b[0m\u001b[0;34m.\u001b[0m\u001b[0mestimator\u001b[0m\u001b[0;34m.\u001b[0m\u001b[0mpredict\u001b[0m\u001b[0;34m(\u001b[0m\u001b[0mx_adv\u001b[0m\u001b[0;34m[\u001b[0m\u001b[0mindex\u001b[0m\u001b[0;34m]\u001b[0m\u001b[0;34m.\u001b[0m\u001b[0mreshape\u001b[0m\u001b[0;34m(\u001b[0m\u001b[0;36m1\u001b[0m\u001b[0;34m,\u001b[0m \u001b[0;34m-\u001b[0m\u001b[0;36m1\u001b[0m\u001b[0;34m)\u001b[0m\u001b[0;34m)\u001b[0m\u001b[0;34m)\u001b[0m\u001b[0;34m\u001b[0m\u001b[0;34m\u001b[0m\u001b[0m\n",
      "\u001b[0;32m~/projects/ICS_advml_workshop/myvirtualvenv/lib/python3.6/site-packages/tqdm/auto.py\u001b[0m in \u001b[0;36mtrange\u001b[0;34m(*args, **kwargs)\u001b[0m\n\u001b[1;32m     40\u001b[0m         \u001b[0mA\u001b[0m \u001b[0mshortcut\u001b[0m \u001b[0;32mfor\u001b[0m\u001b[0;31m \u001b[0m\u001b[0;31m`\u001b[0m\u001b[0mtqdm\u001b[0m\u001b[0;34m.\u001b[0m\u001b[0mauto\u001b[0m\u001b[0;34m.\u001b[0m\u001b[0mtqdm\u001b[0m\u001b[0;34m(\u001b[0m\u001b[0mrange\u001b[0m\u001b[0;34m(\u001b[0m\u001b[0;34m*\u001b[0m\u001b[0margs\u001b[0m\u001b[0;34m)\u001b[0m\u001b[0;34m,\u001b[0m \u001b[0;34m**\u001b[0m\u001b[0mkwargs\u001b[0m\u001b[0;34m)\u001b[0m\u001b[0;31m`\u001b[0m\u001b[0;34m.\u001b[0m\u001b[0;34m\u001b[0m\u001b[0;34m\u001b[0m\u001b[0m\n\u001b[1;32m     41\u001b[0m         \"\"\"\n\u001b[0;32m---> 42\u001b[0;31m         \u001b[0;32mreturn\u001b[0m \u001b[0mtqdm\u001b[0m\u001b[0;34m(\u001b[0m\u001b[0mrange\u001b[0m\u001b[0;34m(\u001b[0m\u001b[0;34m*\u001b[0m\u001b[0margs\u001b[0m\u001b[0;34m)\u001b[0m\u001b[0;34m,\u001b[0m \u001b[0;34m**\u001b[0m\u001b[0mkwargs\u001b[0m\u001b[0;34m)\u001b[0m\u001b[0;34m\u001b[0m\u001b[0;34m\u001b[0m\u001b[0m\n\u001b[0m\u001b[1;32m     43\u001b[0m \u001b[0;34m\u001b[0m\u001b[0m\n\u001b[1;32m     44\u001b[0m \u001b[0m__all__\u001b[0m \u001b[0;34m=\u001b[0m \u001b[0;34m[\u001b[0m\u001b[0;34m\"tqdm\"\u001b[0m\u001b[0;34m,\u001b[0m \u001b[0;34m\"trange\"\u001b[0m\u001b[0;34m]\u001b[0m\u001b[0;34m\u001b[0m\u001b[0;34m\u001b[0m\u001b[0m\n",
      "\u001b[0;32m~/projects/ICS_advml_workshop/myvirtualvenv/lib/python3.6/site-packages/tqdm/notebook.py\u001b[0m in \u001b[0;36m__init__\u001b[0;34m(self, *args, **kwargs)\u001b[0m\n\u001b[1;32m    238\u001b[0m         \u001b[0munit_scale\u001b[0m \u001b[0;34m=\u001b[0m \u001b[0;36m1\u001b[0m \u001b[0;32mif\u001b[0m \u001b[0mself\u001b[0m\u001b[0;34m.\u001b[0m\u001b[0munit_scale\u001b[0m \u001b[0;32mis\u001b[0m \u001b[0;32mTrue\u001b[0m \u001b[0;32melse\u001b[0m \u001b[0mself\u001b[0m\u001b[0;34m.\u001b[0m\u001b[0munit_scale\u001b[0m \u001b[0;32mor\u001b[0m \u001b[0;36m1\u001b[0m\u001b[0;34m\u001b[0m\u001b[0;34m\u001b[0m\u001b[0m\n\u001b[1;32m    239\u001b[0m         \u001b[0mtotal\u001b[0m \u001b[0;34m=\u001b[0m \u001b[0mself\u001b[0m\u001b[0;34m.\u001b[0m\u001b[0mtotal\u001b[0m \u001b[0;34m*\u001b[0m \u001b[0munit_scale\u001b[0m \u001b[0;32mif\u001b[0m \u001b[0mself\u001b[0m\u001b[0;34m.\u001b[0m\u001b[0mtotal\u001b[0m \u001b[0;32melse\u001b[0m \u001b[0mself\u001b[0m\u001b[0;34m.\u001b[0m\u001b[0mtotal\u001b[0m\u001b[0;34m\u001b[0m\u001b[0;34m\u001b[0m\u001b[0m\n\u001b[0;32m--> 240\u001b[0;31m         \u001b[0mself\u001b[0m\u001b[0;34m.\u001b[0m\u001b[0mcontainer\u001b[0m \u001b[0;34m=\u001b[0m \u001b[0mself\u001b[0m\u001b[0;34m.\u001b[0m\u001b[0mstatus_printer\u001b[0m\u001b[0;34m(\u001b[0m\u001b[0mself\u001b[0m\u001b[0;34m.\u001b[0m\u001b[0mfp\u001b[0m\u001b[0;34m,\u001b[0m \u001b[0mtotal\u001b[0m\u001b[0;34m,\u001b[0m \u001b[0mself\u001b[0m\u001b[0;34m.\u001b[0m\u001b[0mdesc\u001b[0m\u001b[0;34m,\u001b[0m \u001b[0mself\u001b[0m\u001b[0;34m.\u001b[0m\u001b[0mncols\u001b[0m\u001b[0;34m)\u001b[0m\u001b[0;34m\u001b[0m\u001b[0;34m\u001b[0m\u001b[0m\n\u001b[0m\u001b[1;32m    241\u001b[0m         \u001b[0mself\u001b[0m\u001b[0;34m.\u001b[0m\u001b[0mcontainer\u001b[0m\u001b[0;34m.\u001b[0m\u001b[0mpbar\u001b[0m \u001b[0;34m=\u001b[0m \u001b[0mself\u001b[0m\u001b[0;34m\u001b[0m\u001b[0;34m\u001b[0m\u001b[0m\n\u001b[1;32m    242\u001b[0m         \u001b[0;32mif\u001b[0m \u001b[0mdisplay_here\u001b[0m\u001b[0;34m:\u001b[0m\u001b[0;34m\u001b[0m\u001b[0;34m\u001b[0m\u001b[0m\n",
      "\u001b[0;32m~/projects/ICS_advml_workshop/myvirtualvenv/lib/python3.6/site-packages/tqdm/notebook.py\u001b[0m in \u001b[0;36mstatus_printer\u001b[0;34m(_, total, desc, ncols)\u001b[0m\n\u001b[1;32m    116\u001b[0m         \u001b[0;32mif\u001b[0m \u001b[0mIProgress\u001b[0m \u001b[0;32mis\u001b[0m \u001b[0;32mNone\u001b[0m\u001b[0;34m:\u001b[0m  \u001b[0;31m# #187 #451 #558 #872\u001b[0m\u001b[0;34m\u001b[0m\u001b[0;34m\u001b[0m\u001b[0m\n\u001b[1;32m    117\u001b[0m             raise ImportError(\n\u001b[0;32m--> 118\u001b[0;31m                 \u001b[0;34m\"IProgress not found. Please update jupyter and ipywidgets.\"\u001b[0m\u001b[0;34m\u001b[0m\u001b[0;34m\u001b[0m\u001b[0m\n\u001b[0m\u001b[1;32m    119\u001b[0m                 \u001b[0;34m\" See https://ipywidgets.readthedocs.io/en/stable\"\u001b[0m\u001b[0;34m\u001b[0m\u001b[0;34m\u001b[0m\u001b[0m\n\u001b[1;32m    120\u001b[0m                 \"/user_install.html\")\n",
      "\u001b[0;31mImportError\u001b[0m: IProgress not found. Please update jupyter and ipywidgets. See https://ipywidgets.readthedocs.io/en/stable/user_install.html"
     ]
    }
   ],
   "source": [
    "# Adversary has a pcap of 1 minute of Ping flood DDos that they have crafted \n",
    "# For the adversary: success = 0 packet detection but will settle for 90% getting through\n",
    "\n",
    "attack_data_pcap = \"datasets/AdversaryPingFlood.pcap\"\n",
    "\n",
    "# load up the stolen IDS classifier\n",
    "model = Model(None, save_model_name=\"time_model_dt\")\n",
    "\n",
    "# check how well the model works at detecting the packets so far\n",
    "print(\"Classification before adversarial evasion\")\n",
    "target_attack_x, target_attack_y, preds = model.test(attack_data_pcap, malicious=1, return_x_y_preds=True)"
   ]
  },
  {
   "cell_type": "code",
   "execution_count": null,
   "id": "daily-tennessee",
   "metadata": {},
   "outputs": [],
   "source": [
    "# get packets classified as malicious - these are the ones we want to manipulate\n",
    "target_attack_x, target_attack_y = target_attack_x[np.where(preds == 1)], target_attack_y[np.where(preds == 1)]\n",
    "\n",
    "# add ART wrapper to classifier\n",
    "art_classifier = ScikitlearnDecisionTreeClassifier(model=model.get_classifier())\n",
    "\n",
    "# create DecisionTreeAttack instance and pass ART classifier \n",
    "dt_attack = DecisionTreeAttack(classifier=art_classifier)\n",
    "\n",
    "# generate adversarial samples\n",
    "x_test_adv = dt_attack.generate(x=target_attack_x)"
   ]
  },
  {
   "cell_type": "code",
   "execution_count": null,
   "id": "rapid-istanbul",
   "metadata": {},
   "outputs": [],
   "source": [
    "# Check new classification accuracy\n",
    "print(\"Classification after adversarial evasion\")\n",
    "model.test((x_test_adv, np.ones(len(x_test_adv))), malicious=target_attack_x)"
   ]
  },
  {
   "cell_type": "code",
   "execution_count": null,
   "id": "synthetic-democracy",
   "metadata": {},
   "outputs": [],
   "source": [
    "# Checking for packet validity: compare the differences between the packets\n",
    "for i, (before, after) in enumerate(zip(target_attack_x, x_test_adv)):\n",
    "    if i >= 3:\n",
    "        break\n",
    "    print(\"sample\", i)\n",
    "    compare_data(before, after, model.features)"
   ]
  },
  {
   "cell_type": "code",
   "execution_count": 5,
   "id": "physical-seating",
   "metadata": {},
   "outputs": [
    {
     "ename": "NameError",
     "evalue": "name 'x_test_adv' is not defined",
     "output_type": "error",
     "traceback": [
      "\u001b[0;31m---------------------------------------------------------------------------\u001b[0m",
      "\u001b[0;31mNameError\u001b[0m                                 Traceback (most recent call last)",
      "\u001b[0;32m<ipython-input-5-390c6169c2ed>\u001b[0m in \u001b[0;36m<module>\u001b[0;34m\u001b[0m\n\u001b[1;32m      1\u001b[0m \u001b[0;31m### fix the \"illegal\" changes:\u001b[0m\u001b[0;34m\u001b[0m\u001b[0;34m\u001b[0m\u001b[0;34m\u001b[0m\u001b[0m\n\u001b[0;32m----> 2\u001b[0;31m \u001b[0mx_test_adv\u001b[0m \u001b[0;34m=\u001b[0m \u001b[0mparse_df_for_pcap_validity\u001b[0m\u001b[0;34m(\u001b[0m\u001b[0mx_test_adv\u001b[0m\u001b[0;34m,\u001b[0m \u001b[0mtarget_attack_x\u001b[0m\u001b[0;34m,\u001b[0m \u001b[0mcolumns\u001b[0m\u001b[0;34m=\u001b[0m\u001b[0mmodel\u001b[0m\u001b[0;34m.\u001b[0m\u001b[0mfeatures\u001b[0m\u001b[0;34m)\u001b[0m\u001b[0;34m\u001b[0m\u001b[0;34m\u001b[0m\u001b[0m\n\u001b[0m\u001b[1;32m      3\u001b[0m \u001b[0;34m\u001b[0m\u001b[0m\n\u001b[1;32m      4\u001b[0m \u001b[0;31m# compare against original\u001b[0m\u001b[0;34m\u001b[0m\u001b[0;34m\u001b[0m\u001b[0;34m\u001b[0m\u001b[0m\n\u001b[1;32m      5\u001b[0m \u001b[0;32mfor\u001b[0m \u001b[0mi\u001b[0m\u001b[0;34m,\u001b[0m \u001b[0;34m(\u001b[0m\u001b[0mbefore\u001b[0m\u001b[0;34m,\u001b[0m \u001b[0mafter\u001b[0m\u001b[0;34m)\u001b[0m \u001b[0;32min\u001b[0m \u001b[0menumerate\u001b[0m\u001b[0;34m(\u001b[0m\u001b[0mzip\u001b[0m\u001b[0;34m(\u001b[0m\u001b[0mtarget_attack_x\u001b[0m\u001b[0;34m,\u001b[0m \u001b[0mx_test_adv\u001b[0m\u001b[0;34m)\u001b[0m\u001b[0;34m)\u001b[0m\u001b[0;34m:\u001b[0m\u001b[0;34m\u001b[0m\u001b[0;34m\u001b[0m\u001b[0m\n",
      "\u001b[0;31mNameError\u001b[0m: name 'x_test_adv' is not defined"
     ]
    }
   ],
   "source": [
    "### fix the \"illegal\" changes:\n",
    "x_test_adv = parse_df_for_pcap_validity(x_test_adv, target_attack_x, columns=model.features)\n",
    "\n",
    "# compare against original\n",
    "for i, (before, after) in enumerate(zip(target_attack_x, x_test_adv)):\n",
    "    if i >= 3:\n",
    "        break\n",
    "    print(\"sample\", i)\n",
    "    compare_data(before, after, model.features)\n",
    "\n",
    "# test new classification accuracy on \"fixed\" adversarial samples\n",
    "print(\"Classification after adversarial evasion + packet validation\")\n",
    "model.test((x_test_adv, np.ones(len(x_test_adv))), malicious=target_attack_x)"
   ]
  },
  {
   "cell_type": "markdown",
   "id": "stuffed-colon",
   "metadata": {},
   "source": [
    "## Black(ish) Box Attack\n",
    "\n",
    "Now we assume the attacker can only see the label coming out of the IDS, does not know the algorithm being used, the features being used or how they are represented (here we actually do know a little how they are represented - hence black-ish). \n",
    "\n",
    "Here we use the [HopSkipJump Attack (Chen, Jordan, Wainwright)](https://arxiv.org/abs/1904.02144)"
   ]
  },
  {
   "cell_type": "code",
   "execution_count": null,
   "id": "extended-blink",
   "metadata": {},
   "outputs": [],
   "source": [
    "model = Model(None, save_model_name=\"time_model_dt\")\n",
    "\n",
    "# review test accuracy\n",
    "print(\"Original accuracy\")\n",
    "model.test(x_test_adv, malicious=target_attack_x)"
   ]
  },
  {
   "cell_type": "code",
   "execution_count": null,
   "id": "floppy-table",
   "metadata": {},
   "outputs": [],
   "source": [
    "# create ART wrapper for model\n",
    "art_classifier = SklearnClassifier(model=model.get_classifier())\n",
    "\n",
    "# Initiate HopSkipJump and \n",
    "attack = HopSkipJump(classifier=art_classifier)\n",
    "x_test_adv = attack.generate(x=target_attack_x, y=np.zeros(len(target_attack_x)))\n",
    "\n",
    "# check new classification accuracy\n",
    "print(\"Classification after black-box adversarial evasion\")\n",
    "model.test((x_test_adv, np.ones(len(x_test_adv))), malicious=target_attack_x)"
   ]
  },
  {
   "cell_type": "code",
   "execution_count": null,
   "id": "opened-ratio",
   "metadata": {},
   "outputs": [],
   "source": [
    "# compare against original\n",
    "for i, (before, after) in enumerate(zip(target_attack_x, x_test_adv)):\n",
    "    if i >= 3:\n",
    "        break\n",
    "    print(\"sample\", i)\n",
    "    compare_data(before, after, model.features)"
   ]
  },
  {
   "cell_type": "code",
   "execution_count": null,
   "id": "exciting-editing",
   "metadata": {},
   "outputs": [],
   "source": [
    "### parse packets for illegal changes \n",
    "x_test_adv = parse_df_for_pcap_validity(x_test_adv, target_attack_x, columns=model.features)\n",
    "    \n",
    "# test new classification accuracy on \"fixed\" adversarial samples\n",
    "print(\"Classification after adversarial evasion + packet validation\")\n",
    "model.test((x_test_adv, np.ones(len(x_test_adv))), malicious=target_attack_x)"
   ]
  },
  {
   "cell_type": "markdown",
   "id": "lonely-peter",
   "metadata": {},
   "source": [
    "### Part 2 Exercises"
   ]
  },
  {
   "cell_type": "code",
   "execution_count": null,
   "id": "national-genealogy",
   "metadata": {},
   "outputs": [],
   "source": [
    "# Try different decision tree models for the white box attack above \n",
    "# i.e. replace model name in the first section with one of these: \n",
    "decision_tree_models = [\"time_model_dt\", \n",
    "                        \"all_except_src_dst_dt\", \n",
    "                        \"all_dt\", \n",
    "                        \"tcp_udp_modbus_icmp_boot_dt\", \n",
    "                        \"src_dst_features_dt\", \n",
    "                        \"IP_features_dt\"]\n",
    "# or use a model you trained in the previous section!"
   ]
  },
  {
   "cell_type": "code",
   "execution_count": null,
   "id": "lyric-chest",
   "metadata": {},
   "outputs": [],
   "source": [
    "# Try the black-box attack with different models (any algorithm)"
   ]
  },
  {
   "cell_type": "code",
   "execution_count": null,
   "id": "lined-associate",
   "metadata": {},
   "outputs": [],
   "source": [
    "# Do the adversarial samples generated for one model also fool another (is there transferability)?"
   ]
  },
  {
   "cell_type": "code",
   "execution_count": null,
   "id": "viral-mileage",
   "metadata": {},
   "outputs": [],
   "source": [
    "# Questions\n",
    "# Does it always matter if the packets are valid?\n",
    "# Which features are most commonly manipulated?\n",
    "# Does changing the algorithm change which features are changed?\n",
    "# Did you predictions from the previous section hold here?\n",
    "# Which scenario do you think is more likely? "
   ]
  },
  {
   "cell_type": "code",
   "execution_count": null,
   "id": "according-authorization",
   "metadata": {},
   "outputs": [],
   "source": [
    "### ----- end of part 1 ------"
   ]
  }
 ],
 "metadata": {
  "kernelspec": {
   "display_name": "Python 3",
   "language": "python",
   "name": "python3"
  },
  "language_info": {
   "codemirror_mode": {
    "name": "ipython",
    "version": 3
   },
   "file_extension": ".py",
   "mimetype": "text/x-python",
   "name": "python",
   "nbconvert_exporter": "python",
   "pygments_lexer": "ipython3",
   "version": "3.6.9"
  }
 },
 "nbformat": 4,
 "nbformat_minor": 5
}
